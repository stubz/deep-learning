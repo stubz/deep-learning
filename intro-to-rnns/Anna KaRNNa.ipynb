{
 "cells": [
  {
   "cell_type": "markdown",
   "metadata": {
    "deletable": true,
    "editable": true
   },
   "source": [
    "# Anna KaRNNa\n",
    "\n",
    "In this notebook, I'll build a character-wise RNN trained on Anna Karenina, one of my all-time favorite books. It'll be able to generate new text based on the text from the book.\n",
    "\n",
    "This network is based off of Andrej Karpathy's [post on RNNs](http://karpathy.github.io/2015/05/21/rnn-effectiveness/) and [implementation in Torch](https://github.com/karpathy/char-rnn). Also, some information [here at r2rt](http://r2rt.com/recurrent-neural-networks-in-tensorflow-ii.html) and from [Sherjil Ozair](https://github.com/sherjilozair/char-rnn-tensorflow) on GitHub. Below is the general architecture of the character-wise RNN.\n",
    "\n",
    "<img src=\"assets/charseq.jpeg\" width=\"500\">"
   ]
  },
  {
   "cell_type": "code",
   "execution_count": 1,
   "metadata": {
    "collapsed": false,
    "deletable": true,
    "editable": true
   },
   "outputs": [],
   "source": [
    "import time\n",
    "from collections import namedtuple\n",
    "\n",
    "import numpy as np\n",
    "import tensorflow as tf"
   ]
  },
  {
   "cell_type": "markdown",
   "metadata": {
    "deletable": true,
    "editable": true
   },
   "source": [
    "First we'll load the text file and convert it into integers for our network to use. Here I'm creating a couple dictionaries to convert the characters to and from integers. Encoding the characters as integers makes it easier to use as input in the network."
   ]
  },
  {
   "cell_type": "code",
   "execution_count": 2,
   "metadata": {
    "collapsed": false,
    "deletable": true,
    "editable": true
   },
   "outputs": [],
   "source": [
    "with open('anna.txt', 'r') as f:\n",
    "    text=f.read()\n",
    "vocab = set(text)\n",
    "vocab_to_int = {c: i for i, c in enumerate(vocab)}\n",
    "int_to_vocab = dict(enumerate(vocab))\n",
    "chars = np.array([vocab_to_int[c] for c in text], dtype=np.int32)"
   ]
  },
  {
   "cell_type": "markdown",
   "metadata": {
    "deletable": true,
    "editable": true
   },
   "source": [
    "Let's check out the first 100 characters, make sure everything is peachy. According to the [American Book Review](http://americanbookreview.org/100bestlines.asp), this is the 6th best first line of a book ever."
   ]
  },
  {
   "cell_type": "code",
   "execution_count": 3,
   "metadata": {
    "collapsed": false,
    "deletable": true,
    "editable": true
   },
   "outputs": [
    {
     "data": {
      "text/plain": [
       "'Chapter 1\\n\\n\\nHappy families are all alike; every unhappy family is unhappy in its own\\nway.\\n\\nEverythin'"
      ]
     },
     "execution_count": 3,
     "metadata": {},
     "output_type": "execute_result"
    }
   ],
   "source": [
    "text[:100]"
   ]
  },
  {
   "cell_type": "markdown",
   "metadata": {
    "deletable": true,
    "editable": true
   },
   "source": [
    "And we can see the characters encoded as integers."
   ]
  },
  {
   "cell_type": "code",
   "execution_count": 4,
   "metadata": {
    "collapsed": false,
    "deletable": true,
    "editable": true
   },
   "outputs": [
    {
     "data": {
      "text/plain": [
       "array([34, 40, 13,  1, 24, 77, 76,  2, 65, 26, 26, 26, 72, 13,  1,  1, 29,\n",
       "        2, 58, 13, 38, 75, 62, 75, 77, 23,  2, 13, 76, 77,  2, 13, 62, 62,\n",
       "        2, 13, 62, 75,  0, 77, 82,  2, 77, 15, 77, 76, 29,  2, 16,  6, 40,\n",
       "       13,  1,  1, 29,  2, 58, 13, 38, 75, 62, 29,  2, 75, 23,  2, 16,  6,\n",
       "       40, 13,  1,  1, 29,  2, 75,  6,  2, 75, 24, 23,  2, 71, 70,  6, 26,\n",
       "       70, 13, 29, 68, 26, 26,  9, 15, 77, 76, 29, 24, 40, 75,  6], dtype=int32)"
      ]
     },
     "execution_count": 4,
     "metadata": {},
     "output_type": "execute_result"
    }
   ],
   "source": [
    "chars[:100]"
   ]
  },
  {
   "cell_type": "markdown",
   "metadata": {
    "deletable": true,
    "editable": true
   },
   "source": [
    "Since the network is working with individual characters, it's similar to a classification problem in which we are trying to predict the next character from the previous text.  Here's how many 'classes' our network has to pick from."
   ]
  },
  {
   "cell_type": "code",
   "execution_count": 5,
   "metadata": {
    "collapsed": false,
    "deletable": true,
    "editable": true
   },
   "outputs": [
    {
     "data": {
      "text/plain": [
       "83"
      ]
     },
     "execution_count": 5,
     "metadata": {},
     "output_type": "execute_result"
    }
   ],
   "source": [
    "np.max(chars)+1"
   ]
  },
  {
   "cell_type": "markdown",
   "metadata": {
    "deletable": true,
    "editable": true
   },
   "source": [
    "## Making training and validation batches\n",
    "\n",
    "Now I need to split up the data into batches, and into training and validation sets. I should be making a test set here, but I'm not going to worry about that. My test will be if the network can generate new text.\n",
    "\n",
    "Here I'll make both input and target arrays. The targets are the same as the inputs, except shifted one character over. I'll also drop the last bit of data so that I'll only have completely full batches.\n",
    "\n",
    "The idea here is to make a 2D matrix where the number of rows is equal to the batch size. Each row will be one long concatenated string from the character data. We'll split this data into a training set and validation set using the `split_frac` keyword. This will keep 90% of the batches in the training set, the other 10% in the validation set."
   ]
  },
  {
   "cell_type": "code",
   "execution_count": 6,
   "metadata": {
    "collapsed": true,
    "deletable": true,
    "editable": true
   },
   "outputs": [],
   "source": [
    "def split_data(chars, batch_size, num_steps, split_frac=0.9):\n",
    "    \"\"\" \n",
    "    Split character data into training and validation sets, inputs and targets for each set.\n",
    "    \n",
    "    Arguments\n",
    "    ---------\n",
    "    chars: character array\n",
    "    batch_size: Size of examples in each of batch\n",
    "    num_steps: Number of sequence steps to keep in the input and pass to the network\n",
    "    split_frac: Fraction of batches to keep in the training set\n",
    "    \n",
    "    \n",
    "    Returns train_x, train_y, val_x, val_y\n",
    "    \"\"\"\n",
    "    \n",
    "    slice_size = batch_size * num_steps\n",
    "    n_batches = int(len(chars) / slice_size)\n",
    "    \n",
    "    # Drop the last few characters to make only full batches\n",
    "    x = chars[: n_batches*slice_size]\n",
    "    y = chars[1: n_batches*slice_size + 1]\n",
    "    \n",
    "    # Split the data into batch_size slices, then stack them into a 2D matrix \n",
    "    x = np.stack(np.split(x, batch_size))\n",
    "    y = np.stack(np.split(y, batch_size))\n",
    "    \n",
    "    # Now x and y are arrays with dimensions batch_size x n_batches*num_steps\n",
    "    \n",
    "    # Split into training and validation sets, keep the first split_frac batches for training\n",
    "    split_idx = int(n_batches*split_frac)\n",
    "    train_x, train_y= x[:, :split_idx*num_steps], y[:, :split_idx*num_steps]\n",
    "    val_x, val_y = x[:, split_idx*num_steps:], y[:, split_idx*num_steps:]\n",
    "    \n",
    "    return train_x, train_y, val_x, val_y"
   ]
  },
  {
   "cell_type": "code",
   "execution_count": 7,
   "metadata": {
    "collapsed": true,
    "deletable": true,
    "editable": true
   },
   "outputs": [],
   "source": [
    "batch_size  = 10\n",
    "num_steps = 50\n",
    "slice_size = batch_size*num_steps\n",
    "n_batches = int(len(chars)/slice_size)"
   ]
  },
  {
   "cell_type": "markdown",
   "metadata": {
    "deletable": true,
    "editable": true
   },
   "source": [
    "Now I'll make my data sets and we can check out what's going on here. Here I'm going to use a batch size of 10 and 50 sequence steps."
   ]
  },
  {
   "cell_type": "code",
   "execution_count": 8,
   "metadata": {
    "collapsed": false,
    "deletable": true,
    "editable": true
   },
   "outputs": [],
   "source": [
    "train_x, train_y, val_x, val_y = split_data(chars, 10, 50)"
   ]
  },
  {
   "cell_type": "code",
   "execution_count": 9,
   "metadata": {
    "collapsed": false,
    "deletable": true,
    "editable": true
   },
   "outputs": [
    {
     "name": "stdout",
     "output_type": "stream",
     "text": [
      "(10, 178650)\n",
      "(10, 19850)\n",
      "198500\n"
     ]
    }
   ],
   "source": [
    "print(train_x.shape)\n",
    "print(val_x.shape)\n",
    "print(train_x.shape[1]+val_x.shape[1])"
   ]
  },
  {
   "cell_type": "markdown",
   "metadata": {
    "deletable": true,
    "editable": true
   },
   "source": [
    "Looking at the size of this array, we see that we have rows equal to the batch size. When we want to get a batch out of here, we can grab a subset of this array that contains all the rows but has a width equal to the number of steps in the sequence. The first batch looks like this:"
   ]
  },
  {
   "cell_type": "code",
   "execution_count": 10,
   "metadata": {
    "collapsed": false,
    "deletable": true,
    "editable": true
   },
   "outputs": [
    {
     "data": {
      "text/plain": [
       "array([[34, 40, 13,  1, 24, 77, 76,  2, 65, 26, 26, 26, 72, 13,  1,  1, 29,\n",
       "         2, 58, 13, 38, 75, 62, 75, 77, 23,  2, 13, 76, 77,  2, 13, 62, 62,\n",
       "         2, 13, 62, 75,  0, 77, 82,  2, 77, 15, 77, 76, 29,  2, 16,  6],\n",
       "       [ 2, 13, 38,  2,  6, 71, 24,  2, 67, 71, 75,  6, 67,  2, 24, 71,  2,\n",
       "        23, 24, 13, 29, 43, 48,  2, 13,  6, 23, 70, 77, 76, 77, 59,  2, 61,\n",
       "         6,  6, 13, 43,  2, 23, 38, 75, 62, 75,  6, 67, 43,  2, 17, 16],\n",
       "       [15, 75,  6, 68, 26, 26, 48, 12, 77, 23, 43,  2, 75, 24, 32, 23,  2,\n",
       "        23, 77, 24, 24, 62, 77, 59, 68,  2, 54, 40, 77,  2,  1, 76, 75, 51,\n",
       "        77,  2, 75, 23,  2, 38, 13, 67,  6, 75, 58, 75, 51, 77,  6, 24],\n",
       "       [ 6,  2, 59, 16, 76, 75,  6, 67,  2, 40, 75, 23,  2, 51, 71,  6, 15,\n",
       "        77, 76, 23, 13, 24, 75, 71,  6,  2, 70, 75, 24, 40,  2, 40, 75, 23,\n",
       "        26, 17, 76, 71, 24, 40, 77, 76,  2, 70, 13, 23,  2, 24, 40, 75],\n",
       "       [ 2, 75, 24,  2, 75, 23, 43,  2, 23, 75, 76, 39, 48,  2, 23, 13, 75,\n",
       "        59,  2, 24, 40, 77,  2, 71, 62, 59,  2, 38, 13,  6, 43,  2, 67, 77,\n",
       "        24, 24, 75,  6, 67,  2, 16,  1, 43,  2, 13,  6, 59, 26, 51, 76],\n",
       "       [ 2, 78, 24,  2, 70, 13, 23, 26, 71,  6, 62, 29,  2, 70, 40, 77,  6,\n",
       "         2, 24, 40, 77,  2, 23, 13, 38, 77,  2, 77, 15, 77,  6, 75,  6, 67,\n",
       "         2, 40, 77,  2, 51, 13, 38, 77,  2, 24, 71,  2, 24, 40, 77, 75],\n",
       "       [40, 77,  6,  2, 51, 71, 38, 77,  2, 58, 71, 76,  2, 38, 77, 43, 48,\n",
       "         2, 23, 40, 77,  2, 23, 13, 75, 59, 43,  2, 13,  6, 59,  2, 70, 77,\n",
       "         6, 24,  2, 17, 13, 51,  0,  2, 75,  6, 24, 71,  2, 24, 40, 77],\n",
       "       [82,  2, 17, 16, 24,  2,  6, 71, 70,  2, 23, 40, 77,  2, 70, 71, 16,\n",
       "        62, 59,  2, 76, 77, 13, 59, 75, 62, 29,  2, 40, 13, 15, 77,  2, 23,\n",
       "        13, 51, 76, 75, 58, 75, 51, 77, 59, 43,  2,  6, 71, 24,  2, 38],\n",
       "       [24,  2, 75, 23,  6, 32, 24, 68,  2, 54, 40, 77, 29, 32, 76, 77,  2,\n",
       "         1, 76, 71,  1, 76, 75, 77, 24, 71, 76, 23,  2, 71, 58,  2, 13,  2,\n",
       "        23, 71, 76, 24, 43, 26, 17, 16, 24,  2, 70, 77, 32, 76, 77,  2],\n",
       "       [ 2, 23, 13, 75, 59,  2, 24, 71,  2, 40, 77, 76, 23, 77, 62, 58, 43,\n",
       "         2, 13,  6, 59,  2, 17, 77, 67, 13,  6,  2, 13, 67, 13, 75,  6,  2,\n",
       "        58, 76, 71, 38,  2, 24, 40, 77,  2, 17, 77, 67, 75,  6,  6, 75]], dtype=int32)"
      ]
     },
     "execution_count": 10,
     "metadata": {},
     "output_type": "execute_result"
    }
   ],
   "source": [
    "train_x[:,:50]"
   ]
  },
  {
   "cell_type": "markdown",
   "metadata": {
    "deletable": true,
    "editable": true
   },
   "source": [
    "I'll write another function to grab batches out of the arrays made by `split_data`. Here each batch will be a sliding window on these arrays with size `batch_size X num_steps`. For example, if we want our network to train on a sequence of 100 characters, `num_steps = 100`. For the next batch, we'll shift this window the next sequence of `num_steps` characters. In this way we can feed batches to the network and the cell states will continue through on each batch."
   ]
  },
  {
   "cell_type": "code",
   "execution_count": 11,
   "metadata": {
    "collapsed": true,
    "deletable": true,
    "editable": true
   },
   "outputs": [],
   "source": [
    "def get_batch(arrs, num_steps):\n",
    "    batch_size, slice_size = arrs[0].shape\n",
    "    \n",
    "    n_batches = int(slice_size/num_steps)\n",
    "    for b in range(n_batches):\n",
    "        yield [x[:, b*num_steps: (b+1)*num_steps] for x in arrs]"
   ]
  },
  {
   "cell_type": "markdown",
   "metadata": {
    "deletable": true,
    "editable": true
   },
   "source": [
    "## Building the model\n",
    "\n",
    "Below is a function where I build the graph for the network."
   ]
  },
  {
   "cell_type": "code",
   "execution_count": 12,
   "metadata": {
    "collapsed": false,
    "deletable": true,
    "editable": true
   },
   "outputs": [],
   "source": [
    "def build_rnn(num_classes, batch_size=50, num_steps=50, lstm_size=128, num_layers=2,\n",
    "              learning_rate=0.001, grad_clip=5, sampling=False):\n",
    "    \n",
    "    # When we're using this network for sampling later, we'll be passing in\n",
    "    # one character at a time, so providing an option for that\n",
    "    if sampling == True:\n",
    "        batch_size, num_steps = 1, 1\n",
    "\n",
    "    tf.reset_default_graph()\n",
    "    \n",
    "    # Declare placeholders we'll feed into the graph\n",
    "    inputs = tf.placeholder(tf.int32, [batch_size, num_steps], name='inputs')\n",
    "    targets = tf.placeholder(tf.int32, [batch_size, num_steps], name='targets')\n",
    "    \n",
    "    # Keep probability placeholder for drop out layers\n",
    "    keep_prob = tf.placeholder(tf.float32, name='keep_prob')\n",
    "    \n",
    "    # One-hot encoding the input and target characters\n",
    "    x_one_hot = tf.one_hot(inputs, num_classes)\n",
    "    y_one_hot = tf.one_hot(targets, num_classes)\n",
    "\n",
    "    ### Build the RNN layers\n",
    "    # Use a basic LSTM cell\n",
    "    lstm = tf.contrib.rnn.BasicLSTMCell(lstm_size)\n",
    "    \n",
    "    # Add dropout to the cell\n",
    "    drop = tf.contrib.rnn.DropoutWrapper(lstm, output_keep_prob=keep_prob)\n",
    "    \n",
    "    # Stack up multiple LSTM layers, for deep learning\n",
    "    cell = tf.contrib.rnn.MultiRNNCell([drop] * num_layers)\n",
    "    initial_state = cell.zero_state(batch_size, tf.float32)\n",
    "\n",
    "    ### Run the data through the RNN layers\n",
    "    # This makes a list where each element is on step in the sequence\n",
    "    rnn_inputs = [tf.squeeze(i, squeeze_dims=[1]) for i in tf.split(x_one_hot, num_steps, 1)]\n",
    "    \n",
    "    # Run each sequence step through the RNN and collect the outputs\n",
    "    outputs, state = tf.contrib.rnn.static_rnn(cell, rnn_inputs, initial_state=initial_state)\n",
    "    final_state = state\n",
    "    \n",
    "    # Reshape output so it's a bunch of rows, one output row for each step for each batch\n",
    "    seq_output = tf.concat(outputs, axis=1)\n",
    "    output = tf.reshape(seq_output, [-1, lstm_size])\n",
    "    \n",
    "    # Now connect the RNN outputs to a softmax layer\n",
    "    with tf.variable_scope('softmax'):\n",
    "        softmax_w = tf.Variable(tf.truncated_normal((lstm_size, num_classes), stddev=0.1))\n",
    "        softmax_b = tf.Variable(tf.zeros(num_classes))\n",
    "    \n",
    "    # Since output is a bunch of rows of RNN cell outputs, logits will be a bunch\n",
    "    # of rows of logit outputs, one for each step and batch\n",
    "    logits = tf.matmul(output, softmax_w) + softmax_b\n",
    "    \n",
    "    # Use softmax to get the probabilities for predicted characters\n",
    "    preds = tf.nn.softmax(logits, name='predictions')\n",
    "    \n",
    "    # Reshape the targets to match the logits\n",
    "    y_reshaped = tf.reshape(y_one_hot, [-1, num_classes])\n",
    "    loss = tf.nn.softmax_cross_entropy_with_logits(logits=logits, labels=y_reshaped)\n",
    "    cost = tf.reduce_mean(loss)\n",
    "\n",
    "    # Optimizer for training, using gradient clipping to control exploding gradients\n",
    "    tvars = tf.trainable_variables()\n",
    "    grads, _ = tf.clip_by_global_norm(tf.gradients(cost, tvars), grad_clip)\n",
    "    train_op = tf.train.AdamOptimizer(learning_rate)\n",
    "    optimizer = train_op.apply_gradients(zip(grads, tvars))\n",
    "    \n",
    "    # Export the nodes\n",
    "    # NOTE: I'm using a namedtuple here because I think they are cool\n",
    "    export_nodes = ['inputs', 'targets', 'initial_state', 'final_state',\n",
    "                    'keep_prob', 'cost', 'preds', 'optimizer']\n",
    "    Graph = namedtuple('Graph', export_nodes)\n",
    "    local_dict = locals()\n",
    "    graph = Graph(*[local_dict[each] for each in export_nodes])\n",
    "    \n",
    "    return graph"
   ]
  },
  {
   "cell_type": "markdown",
   "metadata": {
    "deletable": true,
    "editable": true
   },
   "source": [
    "## Hyperparameters\n",
    "\n",
    "Here I'm defining the hyperparameters for the network. \n",
    "\n",
    "* `batch_size` - Number of sequences running through the network in one pass.\n",
    "* `num_steps` - Number of characters in the sequence the network is trained on. Larger is better typically, the network will learn more long range dependencies. But it takes longer to train. 100 is typically a good number here.\n",
    "* `lstm_size` - The number of units in the hidden layers.\n",
    "* `num_layers` - Number of hidden LSTM layers to use\n",
    "* `learning_rate` - Learning rate for training\n",
    "* `keep_prob` - The dropout keep probability when training. If you're network is overfitting, try decreasing this.\n",
    "\n",
    "Here's some good advice from Andrej Karpathy on training the network. I'm going to write it in here for your benefit, but also link to [where it originally came from](https://github.com/karpathy/char-rnn#tips-and-tricks).\n",
    "\n",
    "> ## Tips and Tricks\n",
    "\n",
    ">### Monitoring Validation Loss vs. Training Loss\n",
    ">If you're somewhat new to Machine Learning or Neural Networks it can take a bit of expertise to get good models. The most important quantity to keep track of is the difference between your training loss (printed during training) and the validation loss (printed once in a while when the RNN is run on the validation data (by default every 1000 iterations)). In particular:\n",
    "\n",
    "> - If your training loss is much lower than validation loss then this means the network might be **overfitting**. Solutions to this are to decrease your network size, or to increase dropout. For example you could try dropout of 0.5 and so on.\n",
    "> - If your training/validation loss are about equal then your model is **underfitting**. Increase the size of your model (either number of layers or the raw number of neurons per layer)\n",
    "\n",
    "> ### Approximate number of parameters\n",
    "\n",
    "> The two most important parameters that control the model are `lstm_size` and `num_layers`. I would advise that you always use `num_layers` of either 2/3. The `lstm_size` can be adjusted based on how much data you have. The two important quantities to keep track of here are:\n",
    "\n",
    "> - The number of parameters in your model. This is printed when you start training.\n",
    "> - The size of your dataset. 1MB file is approximately 1 million characters.\n",
    "\n",
    ">These two should be about the same order of magnitude. It's a little tricky to tell. Here are some examples:\n",
    "\n",
    "> - I have a 100MB dataset and I'm using the default parameter settings (which currently print 150K parameters). My data size is significantly larger (100 mil >> 0.15 mil), so I expect to heavily underfit. I am thinking I can comfortably afford to make `lstm_size` larger.\n",
    "> - I have a 10MB dataset and running a 10 million parameter model. I'm slightly nervous and I'm carefully monitoring my validation loss. If it's larger than my training loss then I may want to try to increase dropout a bit and see if that helps the validation loss.\n",
    "\n",
    "> ### Best models strategy\n",
    "\n",
    ">The winning strategy to obtaining very good models (if you have the compute time) is to always err on making the network larger (as large as you're willing to wait for it to compute) and then try different dropout values (between 0,1). Whatever model has the best validation performance (the loss, written in the checkpoint filename, low is good) is the one you should use in the end.\n",
    "\n",
    ">It is very common in deep learning to run many different models with many different hyperparameter settings, and in the end take whatever checkpoint gave the best validation performance.\n",
    "\n",
    ">By the way, the size of your training and validation splits are also parameters. Make sure you have a decent amount of data in your validation set or otherwise the validation performance will be noisy and not very informative.\n"
   ]
  },
  {
   "cell_type": "code",
   "execution_count": 13,
   "metadata": {
    "collapsed": false,
    "deletable": true,
    "editable": true
   },
   "outputs": [],
   "source": [
    "batch_size = 100\n",
    "num_steps = 100 \n",
    "lstm_size = 512\n",
    "num_layers = 2\n",
    "learning_rate = 0.001\n",
    "keep_prob = 0.5"
   ]
  },
  {
   "cell_type": "markdown",
   "metadata": {
    "deletable": true,
    "editable": true
   },
   "source": [
    "## Training\n",
    "\n",
    "Time for training which is pretty straightforward. Here I pass in some data, and get an LSTM state back. Then I pass that state back in to the network so the next batch can continue the state from the previous batch. And every so often (set by `save_every_n`) I calculate the validation loss and save a checkpoint.\n",
    "\n",
    "Here I'm saving checkpoints with the format\n",
    "\n",
    "`i{iteration number}_l{# hidden layer units}_v{validation loss}.ckpt`"
   ]
  },
  {
   "cell_type": "code",
   "execution_count": null,
   "metadata": {
    "collapsed": false,
    "deletable": true,
    "editable": true,
    "scrolled": true
   },
   "outputs": [
    {
     "name": "stdout",
     "output_type": "stream",
     "text": [
      "Epoch 1/20  Iteration 1/3560 Training loss: 4.4183 8.4144 sec/batch\n",
      "Epoch 1/20  Iteration 2/3560 Training loss: 4.3780 6.0695 sec/batch\n",
      "Epoch 1/20  Iteration 3/3560 Training loss: 4.2266 6.6190 sec/batch\n",
      "Epoch 1/20  Iteration 4/3560 Training loss: 4.6381 6.1226 sec/batch\n",
      "Epoch 1/20  Iteration 5/3560 Training loss: 4.5332 5.9285 sec/batch\n",
      "Epoch 1/20  Iteration 6/3560 Training loss: 4.4428 5.9562 sec/batch\n",
      "Epoch 1/20  Iteration 7/3560 Training loss: 4.3535 5.9401 sec/batch\n",
      "Epoch 1/20  Iteration 8/3560 Training loss: 4.2643 5.9486 sec/batch\n",
      "Epoch 1/20  Iteration 9/3560 Training loss: 4.1779 6.7323 sec/batch\n",
      "Epoch 1/20  Iteration 10/3560 Training loss: 4.1040 6.2803 sec/batch\n",
      "Epoch 1/20  Iteration 11/3560 Training loss: 4.0386 6.0766 sec/batch\n",
      "Epoch 1/20  Iteration 12/3560 Training loss: 3.9852 6.0593 sec/batch\n",
      "Epoch 1/20  Iteration 13/3560 Training loss: 3.9378 7.5058 sec/batch\n",
      "Epoch 1/20  Iteration 14/3560 Training loss: 3.8975 5.9755 sec/batch\n",
      "Epoch 1/20  Iteration 15/3560 Training loss: 3.8607 6.3736 sec/batch\n",
      "Epoch 1/20  Iteration 16/3560 Training loss: 3.8267 7.4640 sec/batch\n",
      "Epoch 1/20  Iteration 17/3560 Training loss: 3.7960 6.3578 sec/batch\n",
      "Epoch 1/20  Iteration 18/3560 Training loss: 3.7696 6.7638 sec/batch\n",
      "Epoch 1/20  Iteration 19/3560 Training loss: 3.7448 6.1916 sec/batch\n",
      "Epoch 1/20  Iteration 20/3560 Training loss: 3.7203 7.3848 sec/batch\n",
      "Epoch 1/20  Iteration 21/3560 Training loss: 3.6991 5.9810 sec/batch\n",
      "Epoch 1/20  Iteration 22/3560 Training loss: 3.6794 6.0348 sec/batch\n",
      "Epoch 1/20  Iteration 23/3560 Training loss: 3.6607 6.0666 sec/batch\n",
      "Epoch 1/20  Iteration 24/3560 Training loss: 3.6429 6.9966 sec/batch\n",
      "Epoch 1/20  Iteration 25/3560 Training loss: 3.6263 8.3361 sec/batch\n",
      "Epoch 1/20  Iteration 26/3560 Training loss: 3.6118 7.1562 sec/batch\n",
      "Epoch 1/20  Iteration 27/3560 Training loss: 3.5982 6.4405 sec/batch\n",
      "Epoch 1/20  Iteration 28/3560 Training loss: 3.5845 7.6256 sec/batch\n",
      "Epoch 1/20  Iteration 29/3560 Training loss: 3.5718 6.4483 sec/batch\n",
      "Epoch 1/20  Iteration 30/3560 Training loss: 3.5600 6.7833 sec/batch\n",
      "Epoch 1/20  Iteration 31/3560 Training loss: 3.5496 6.2206 sec/batch\n",
      "Epoch 1/20  Iteration 32/3560 Training loss: 3.5389 6.0777 sec/batch\n",
      "Epoch 1/20  Iteration 33/3560 Training loss: 3.5284 6.1298 sec/batch\n",
      "Epoch 1/20  Iteration 34/3560 Training loss: 3.5191 6.1774 sec/batch\n",
      "Epoch 1/20  Iteration 35/3560 Training loss: 3.5096 6.1291 sec/batch\n",
      "Epoch 1/20  Iteration 36/3560 Training loss: 3.5012 6.1137 sec/batch\n",
      "Epoch 1/20  Iteration 37/3560 Training loss: 3.4923 6.0844 sec/batch\n",
      "Epoch 1/20  Iteration 38/3560 Training loss: 3.4841 6.0972 sec/batch\n",
      "Epoch 1/20  Iteration 39/3560 Training loss: 3.4761 6.0886 sec/batch\n",
      "Epoch 1/20  Iteration 40/3560 Training loss: 3.4685 6.1007 sec/batch\n",
      "Epoch 1/20  Iteration 41/3560 Training loss: 3.4611 6.0989 sec/batch\n",
      "Epoch 1/20  Iteration 42/3560 Training loss: 3.4544 6.0782 sec/batch\n",
      "Epoch 1/20  Iteration 43/3560 Training loss: 3.4477 6.0880 sec/batch\n",
      "Epoch 1/20  Iteration 44/3560 Training loss: 3.4410 6.0878 sec/batch\n",
      "Epoch 1/20  Iteration 45/3560 Training loss: 3.4347 6.0710 sec/batch\n",
      "Epoch 1/20  Iteration 46/3560 Training loss: 3.4289 6.4285 sec/batch\n",
      "Epoch 1/20  Iteration 47/3560 Training loss: 3.4232 8.2721 sec/batch\n",
      "Epoch 1/20  Iteration 48/3560 Training loss: 3.4181 7.4340 sec/batch\n",
      "Epoch 1/20  Iteration 49/3560 Training loss: 3.4130 6.1661 sec/batch\n",
      "Epoch 1/20  Iteration 50/3560 Training loss: 3.4081 6.1087 sec/batch\n",
      "Epoch 1/20  Iteration 51/3560 Training loss: 3.4031 6.1393 sec/batch\n",
      "Epoch 1/20  Iteration 52/3560 Training loss: 3.3982 6.0953 sec/batch\n",
      "Epoch 1/20  Iteration 53/3560 Training loss: 3.3937 6.0558 sec/batch\n",
      "Epoch 1/20  Iteration 54/3560 Training loss: 3.3891 6.1040 sec/batch\n",
      "Epoch 1/20  Iteration 55/3560 Training loss: 3.3849 6.1084 sec/batch\n",
      "Epoch 1/20  Iteration 56/3560 Training loss: 3.3804 6.1909 sec/batch\n",
      "Epoch 1/20  Iteration 57/3560 Training loss: 3.3763 6.0846 sec/batch\n",
      "Epoch 1/20  Iteration 58/3560 Training loss: 3.3723 6.1554 sec/batch\n",
      "Epoch 1/20  Iteration 59/3560 Training loss: 3.3683 6.1396 sec/batch\n",
      "Epoch 1/20  Iteration 60/3560 Training loss: 3.3646 6.2233 sec/batch\n",
      "Epoch 1/20  Iteration 61/3560 Training loss: 3.3609 6.1734 sec/batch\n",
      "Epoch 1/20  Iteration 62/3560 Training loss: 3.3578 6.1017 sec/batch\n",
      "Epoch 1/20  Iteration 63/3560 Training loss: 3.3547 6.1463 sec/batch\n",
      "Epoch 1/20  Iteration 64/3560 Training loss: 3.3511 6.7271 sec/batch\n",
      "Epoch 1/20  Iteration 65/3560 Training loss: 3.3476 6.9288 sec/batch\n",
      "Epoch 1/20  Iteration 66/3560 Training loss: 3.3447 6.1508 sec/batch\n",
      "Epoch 1/20  Iteration 67/3560 Training loss: 3.3417 6.0335 sec/batch\n",
      "Epoch 1/20  Iteration 68/3560 Training loss: 3.3381 6.1034 sec/batch\n",
      "Epoch 1/20  Iteration 69/3560 Training loss: 3.3350 6.0685 sec/batch\n",
      "Epoch 1/20  Iteration 70/3560 Training loss: 3.3323 6.1034 sec/batch\n",
      "Epoch 1/20  Iteration 71/3560 Training loss: 3.3294 6.1022 sec/batch\n",
      "Epoch 1/20  Iteration 72/3560 Training loss: 3.3269 7.3806 sec/batch\n",
      "Epoch 1/20  Iteration 73/3560 Training loss: 3.3242 8.4770 sec/batch\n",
      "Epoch 1/20  Iteration 74/3560 Training loss: 3.3216 7.7298 sec/batch\n",
      "Epoch 1/20  Iteration 75/3560 Training loss: 3.3192 7.2075 sec/batch\n",
      "Epoch 1/20  Iteration 76/3560 Training loss: 3.3168 6.1346 sec/batch\n",
      "Epoch 1/20  Iteration 77/3560 Training loss: 3.3143 6.2843 sec/batch\n",
      "Epoch 1/20  Iteration 78/3560 Training loss: 3.3119 6.2611 sec/batch\n",
      "Epoch 1/20  Iteration 79/3560 Training loss: 3.3095 6.1205 sec/batch\n",
      "Epoch 1/20  Iteration 80/3560 Training loss: 3.3070 6.1242 sec/batch\n",
      "Epoch 1/20  Iteration 81/3560 Training loss: 3.3046 6.1075 sec/batch\n",
      "Epoch 1/20  Iteration 82/3560 Training loss: 3.3025 6.0944 sec/batch\n",
      "Epoch 1/20  Iteration 83/3560 Training loss: 3.3003 6.0872 sec/batch\n",
      "Epoch 1/20  Iteration 84/3560 Training loss: 3.2982 6.0611 sec/batch\n",
      "Epoch 1/20  Iteration 85/3560 Training loss: 3.2960 6.1009 sec/batch\n",
      "Epoch 1/20  Iteration 86/3560 Training loss: 3.2939 6.0958 sec/batch\n",
      "Epoch 1/20  Iteration 87/3560 Training loss: 3.2916 6.0082 sec/batch\n",
      "Epoch 1/20  Iteration 88/3560 Training loss: 3.2894 6.0690 sec/batch\n",
      "Epoch 1/20  Iteration 89/3560 Training loss: 3.2875 6.0908 sec/batch\n",
      "Epoch 1/20  Iteration 90/3560 Training loss: 3.2856 6.0641 sec/batch\n",
      "Epoch 1/20  Iteration 91/3560 Training loss: 3.2836 6.0705 sec/batch\n",
      "Epoch 1/20  Iteration 92/3560 Training loss: 3.2816 6.1024 sec/batch\n",
      "Epoch 1/20  Iteration 93/3560 Training loss: 3.2796 6.1000 sec/batch\n",
      "Epoch 1/20  Iteration 94/3560 Training loss: 3.2777 6.1312 sec/batch\n",
      "Epoch 1/20  Iteration 95/3560 Training loss: 3.2757 6.1104 sec/batch\n",
      "Epoch 1/20  Iteration 96/3560 Training loss: 3.2737 6.0818 sec/batch\n",
      "Epoch 1/20  Iteration 97/3560 Training loss: 3.2718 6.1439 sec/batch\n",
      "Epoch 1/20  Iteration 98/3560 Training loss: 3.2701 6.0991 sec/batch\n",
      "Epoch 1/20  Iteration 99/3560 Training loss: 3.2683 6.1693 sec/batch\n",
      "Epoch 1/20  Iteration 100/3560 Training loss: 3.2665 6.0743 sec/batch\n",
      "Epoch 1/20  Iteration 101/3560 Training loss: 3.2648 6.1131 sec/batch\n",
      "Epoch 1/20  Iteration 102/3560 Training loss: 3.2631 6.1290 sec/batch\n",
      "Epoch 1/20  Iteration 103/3560 Training loss: 3.2614 6.0847 sec/batch\n",
      "Epoch 1/20  Iteration 104/3560 Training loss: 3.2597 6.1710 sec/batch\n",
      "Epoch 1/20  Iteration 105/3560 Training loss: 3.2579 5.9879 sec/batch\n",
      "Epoch 1/20  Iteration 106/3560 Training loss: 3.2563 6.0898 sec/batch\n",
      "Epoch 1/20  Iteration 107/3560 Training loss: 3.2544 6.0902 sec/batch\n",
      "Epoch 1/20  Iteration 108/3560 Training loss: 3.2525 6.1538 sec/batch\n",
      "Epoch 1/20  Iteration 109/3560 Training loss: 3.2509 6.1610 sec/batch\n",
      "Epoch 1/20  Iteration 110/3560 Training loss: 3.2489 6.1658 sec/batch\n",
      "Epoch 1/20  Iteration 111/3560 Training loss: 3.2472 6.1308 sec/batch\n",
      "Epoch 1/20  Iteration 112/3560 Training loss: 3.2455 6.0915 sec/batch\n",
      "Epoch 1/20  Iteration 113/3560 Training loss: 3.2437 6.0841 sec/batch\n",
      "Epoch 1/20  Iteration 114/3560 Training loss: 3.2418 6.1121 sec/batch\n",
      "Epoch 1/20  Iteration 115/3560 Training loss: 3.2399 6.1569 sec/batch\n",
      "Epoch 1/20  Iteration 116/3560 Training loss: 3.2380 6.1156 sec/batch\n",
      "Epoch 1/20  Iteration 117/3560 Training loss: 3.2362 6.0897 sec/batch\n",
      "Epoch 1/20  Iteration 118/3560 Training loss: 3.2345 6.0578 sec/batch\n",
      "Epoch 1/20  Iteration 119/3560 Training loss: 3.2328 6.1013 sec/batch\n",
      "Epoch 1/20  Iteration 120/3560 Training loss: 3.2309 6.1026 sec/batch\n",
      "Epoch 1/20  Iteration 121/3560 Training loss: 3.2292 6.0831 sec/batch\n",
      "Epoch 1/20  Iteration 122/3560 Training loss: 3.2641 6.1400 sec/batch\n",
      "Epoch 1/20  Iteration 123/3560 Training loss: 3.2862 6.1390 sec/batch\n",
      "Epoch 1/20  Iteration 124/3560 Training loss: 3.2852 7.2204 sec/batch\n",
      "Epoch 1/20  Iteration 125/3560 Training loss: 3.2837 6.3902 sec/batch\n",
      "Epoch 1/20  Iteration 126/3560 Training loss: 3.2820 6.3057 sec/batch\n",
      "Epoch 1/20  Iteration 127/3560 Training loss: 3.2804 6.3280 sec/batch\n",
      "Epoch 1/20  Iteration 128/3560 Training loss: 3.2786 6.1796 sec/batch\n",
      "Epoch 1/20  Iteration 129/3560 Training loss: 3.2766 6.1123 sec/batch\n",
      "Epoch 1/20  Iteration 130/3560 Training loss: 3.2747 6.0777 sec/batch\n",
      "Epoch 1/20  Iteration 131/3560 Training loss: 3.2730 6.1279 sec/batch\n",
      "Epoch 1/20  Iteration 132/3560 Training loss: 3.2712 6.2185 sec/batch\n",
      "Epoch 1/20  Iteration 133/3560 Training loss: 3.2694 6.0841 sec/batch\n",
      "Epoch 1/20  Iteration 134/3560 Training loss: 3.2675 6.0940 sec/batch\n",
      "Epoch 1/20  Iteration 135/3560 Training loss: 3.2654 6.0912 sec/batch\n",
      "Epoch 1/20  Iteration 136/3560 Training loss: 3.2634 6.1117 sec/batch\n",
      "Epoch 1/20  Iteration 137/3560 Training loss: 3.2614 6.0783 sec/batch\n",
      "Epoch 1/20  Iteration 138/3560 Training loss: 3.2594 6.0935 sec/batch\n",
      "Epoch 1/20  Iteration 139/3560 Training loss: 3.2576 6.0526 sec/batch\n",
      "Epoch 1/20  Iteration 140/3560 Training loss: 3.2557 6.0923 sec/batch\n",
      "Epoch 1/20  Iteration 141/3560 Training loss: 3.2538 6.0956 sec/batch\n",
      "Epoch 1/20  Iteration 142/3560 Training loss: 3.2517 6.0909 sec/batch\n",
      "Epoch 1/20  Iteration 143/3560 Training loss: 3.2497 6.1482 sec/batch\n",
      "Epoch 1/20  Iteration 144/3560 Training loss: 3.2476 6.0276 sec/batch\n",
      "Epoch 1/20  Iteration 145/3560 Training loss: 3.2456 6.0812 sec/batch\n",
      "Epoch 1/20  Iteration 146/3560 Training loss: 3.2437 6.0986 sec/batch\n",
      "Epoch 1/20  Iteration 147/3560 Training loss: 3.2417 6.0849 sec/batch\n",
      "Epoch 1/20  Iteration 148/3560 Training loss: 3.2399 6.1085 sec/batch\n",
      "Epoch 1/20  Iteration 149/3560 Training loss: 3.2378 6.1062 sec/batch\n",
      "Epoch 1/20  Iteration 150/3560 Training loss: 3.2356 6.1069 sec/batch\n",
      "Epoch 1/20  Iteration 151/3560 Training loss: 3.2337 6.1291 sec/batch\n",
      "Epoch 1/20  Iteration 152/3560 Training loss: 3.2318 6.0561 sec/batch\n",
      "Epoch 1/20  Iteration 153/3560 Training loss: 3.2297 6.0961 sec/batch\n",
      "Epoch 1/20  Iteration 154/3560 Training loss: 3.2276 6.1093 sec/batch\n",
      "Epoch 1/20  Iteration 155/3560 Training loss: 3.2253 6.0918 sec/batch\n",
      "Epoch 1/20  Iteration 156/3560 Training loss: 3.2231 6.0903 sec/batch\n",
      "Epoch 1/20  Iteration 157/3560 Training loss: 3.2208 6.0772 sec/batch\n",
      "Epoch 1/20  Iteration 158/3560 Training loss: 3.2185 6.1179 sec/batch\n",
      "Epoch 1/20  Iteration 159/3560 Training loss: 3.2162 6.1911 sec/batch\n",
      "Epoch 1/20  Iteration 160/3560 Training loss: 3.2141 6.1905 sec/batch\n",
      "Epoch 1/20  Iteration 161/3560 Training loss: 3.2118 6.1193 sec/batch\n",
      "Epoch 1/20  Iteration 162/3560 Training loss: 3.2096 6.1492 sec/batch\n",
      "Epoch 1/20  Iteration 163/3560 Training loss: 3.2072 6.2422 sec/batch\n",
      "Epoch 1/20  Iteration 164/3560 Training loss: 3.2050 6.0743 sec/batch\n",
      "Epoch 1/20  Iteration 165/3560 Training loss: 3.2028 6.0957 sec/batch\n",
      "Epoch 1/20  Iteration 166/3560 Training loss: 3.2004 6.0934 sec/batch\n",
      "Epoch 1/20  Iteration 167/3560 Training loss: 3.1982 6.0730 sec/batch\n",
      "Epoch 1/20  Iteration 168/3560 Training loss: 3.1959 6.0932 sec/batch\n",
      "Epoch 1/20  Iteration 169/3560 Training loss: 3.1936 6.0951 sec/batch\n",
      "Epoch 1/20  Iteration 170/3560 Training loss: 3.1912 6.0524 sec/batch\n",
      "Epoch 1/20  Iteration 171/3560 Training loss: 3.1889 6.0881 sec/batch\n",
      "Epoch 1/20  Iteration 172/3560 Training loss: 3.1868 6.1903 sec/batch\n",
      "Epoch 1/20  Iteration 173/3560 Training loss: 3.1847 7.5888 sec/batch\n",
      "Epoch 1/20  Iteration 174/3560 Training loss: 3.1825 6.0123 sec/batch\n",
      "Epoch 1/20  Iteration 175/3560 Training loss: 3.1803 6.7292 sec/batch\n",
      "Epoch 1/20  Iteration 176/3560 Training loss: 3.1780 6.1257 sec/batch\n",
      "Epoch 1/20  Iteration 177/3560 Training loss: 3.1756 6.1573 sec/batch\n",
      "Epoch 1/20  Iteration 178/3560 Training loss: 3.1731 3602.6701 sec/batch\n",
      "Epoch 2/20  Iteration 179/3560 Training loss: 2.7783 15.8570 sec/batch\n",
      "Epoch 2/20  Iteration 180/3560 Training loss: 2.7432 6.5079 sec/batch\n",
      "Epoch 2/20  Iteration 181/3560 Training loss: 2.7314 6.1811 sec/batch\n",
      "Epoch 2/20  Iteration 182/3560 Training loss: 2.7263 6.2308 sec/batch\n",
      "Epoch 2/20  Iteration 183/3560 Training loss: 2.7207 6.0497 sec/batch\n",
      "Epoch 2/20  Iteration 184/3560 Training loss: 2.7152 6.0972 sec/batch\n",
      "Epoch 2/20  Iteration 185/3560 Training loss: 2.7120 6.1170 sec/batch\n",
      "Epoch 2/20  Iteration 186/3560 Training loss: 2.7109 6.2160 sec/batch\n",
      "Epoch 2/20  Iteration 187/3560 Training loss: 2.7079 6.0957 sec/batch\n",
      "Epoch 2/20  Iteration 188/3560 Training loss: 2.7043 6.2149 sec/batch\n",
      "Epoch 2/20  Iteration 189/3560 Training loss: 2.6996 6.1671 sec/batch\n",
      "Epoch 2/20  Iteration 190/3560 Training loss: 2.6977 6.1520 sec/batch\n",
      "Epoch 2/20  Iteration 191/3560 Training loss: 2.6944 6.0436 sec/batch\n",
      "Epoch 2/20  Iteration 192/3560 Training loss: 2.6935 6.1355 sec/batch\n",
      "Epoch 2/20  Iteration 193/3560 Training loss: 2.6904 6.1091 sec/batch\n",
      "Epoch 2/20  Iteration 194/3560 Training loss: 2.6873 6.0885 sec/batch\n",
      "Epoch 2/20  Iteration 195/3560 Training loss: 2.6851 6.0663 sec/batch\n",
      "Epoch 2/20  Iteration 196/3560 Training loss: 2.6841 6.0342 sec/batch\n",
      "Epoch 2/20  Iteration 197/3560 Training loss: 2.6815 6.1001 sec/batch\n",
      "Epoch 2/20  Iteration 198/3560 Training loss: 2.6770 6.0507 sec/batch\n",
      "Epoch 2/20  Iteration 199/3560 Training loss: 2.6739 6.0577 sec/batch\n",
      "Epoch 2/20  Iteration 200/3560 Training loss: 2.6721 6.0843 sec/batch\n",
      "Validation loss: 2.5281 Saving checkpoint!\n",
      "Epoch 2/20  Iteration 201/3560 Training loss: 2.6699 6.1029 sec/batch\n",
      "Epoch 2/20  Iteration 202/3560 Training loss: 2.6666 6.0699 sec/batch\n",
      "Epoch 2/20  Iteration 203/3560 Training loss: 2.6628 6.0921 sec/batch\n",
      "Epoch 2/20  Iteration 204/3560 Training loss: 2.6603 6.0730 sec/batch\n",
      "Epoch 2/20  Iteration 205/3560 Training loss: 2.6572 6.1001 sec/batch\n",
      "Epoch 2/20  Iteration 206/3560 Training loss: 2.6540 6.0777 sec/batch\n",
      "Epoch 2/20  Iteration 207/3560 Training loss: 2.6509 6.0775 sec/batch\n",
      "Epoch 2/20  Iteration 208/3560 Training loss: 2.6480 6.0523 sec/batch\n",
      "Epoch 2/20  Iteration 209/3560 Training loss: 2.6459 6.0872 sec/batch\n",
      "Epoch 2/20  Iteration 210/3560 Training loss: 2.6429 6.0683 sec/batch\n",
      "Epoch 2/20  Iteration 211/3560 Training loss: 2.6396 6.5168 sec/batch\n",
      "Epoch 2/20  Iteration 212/3560 Training loss: 2.6371 6.4225 sec/batch\n",
      "Epoch 2/20  Iteration 213/3560 Training loss: 2.6341 6.2233 sec/batch\n",
      "Epoch 2/20  Iteration 214/3560 Training loss: 2.6317 6.4045 sec/batch\n",
      "Epoch 2/20  Iteration 215/3560 Training loss: 2.6289 6.1622 sec/batch\n",
      "Epoch 2/20  Iteration 216/3560 Training loss: 2.6256 6.0291 sec/batch\n",
      "Epoch 2/20  Iteration 217/3560 Training loss: 2.6224 6.1523 sec/batch\n",
      "Epoch 2/20  Iteration 218/3560 Training loss: 2.6197 6.0751 sec/batch\n",
      "Epoch 2/20  Iteration 219/3560 Training loss: 2.6168 6.1630 sec/batch\n",
      "Epoch 2/20  Iteration 220/3560 Training loss: 2.6141 6.7574 sec/batch\n"
     ]
    }
   ],
   "source": [
    "epochs = 20\n",
    "# Save every N iterations\n",
    "save_every_n = 200\n",
    "train_x, train_y, val_x, val_y = split_data(chars, batch_size, num_steps)\n",
    "\n",
    "model = build_rnn(len(vocab), \n",
    "                  batch_size=batch_size,\n",
    "                  num_steps=num_steps,\n",
    "                  learning_rate=learning_rate,\n",
    "                  lstm_size=lstm_size,\n",
    "                  num_layers=num_layers)\n",
    "\n",
    "saver = tf.train.Saver(max_to_keep=100)\n",
    "with tf.Session() as sess:\n",
    "    sess.run(tf.global_variables_initializer())\n",
    "    \n",
    "    # Use the line below to load a checkpoint and resume training\n",
    "    #saver.restore(sess, 'checkpoints/______.ckpt')\n",
    "    \n",
    "    n_batches = int(train_x.shape[1]/num_steps)\n",
    "    iterations = n_batches * epochs\n",
    "    for e in range(epochs):\n",
    "        \n",
    "        # Train network\n",
    "        new_state = sess.run(model.initial_state)\n",
    "        loss = 0\n",
    "        for b, (x, y) in enumerate(get_batch([train_x, train_y], num_steps), 1):\n",
    "            iteration = e*n_batches + b\n",
    "            start = time.time()\n",
    "            feed = {model.inputs: x,\n",
    "                    model.targets: y,\n",
    "                    model.keep_prob: keep_prob,\n",
    "                    model.initial_state: new_state}\n",
    "            batch_loss, new_state, _ = sess.run([model.cost, model.final_state, model.optimizer], \n",
    "                                                 feed_dict=feed)\n",
    "            loss += batch_loss\n",
    "            end = time.time()\n",
    "            print('Epoch {}/{} '.format(e+1, epochs),\n",
    "                  'Iteration {}/{}'.format(iteration, iterations),\n",
    "                  'Training loss: {:.4f}'.format(loss/b),\n",
    "                  '{:.4f} sec/batch'.format((end-start)))\n",
    "        \n",
    "            \n",
    "            if (iteration%save_every_n == 0) or (iteration == iterations):\n",
    "                # Check performance, notice dropout has been set to 1\n",
    "                val_loss = []\n",
    "                new_state = sess.run(model.initial_state)\n",
    "                for x, y in get_batch([val_x, val_y], num_steps):\n",
    "                    feed = {model.inputs: x,\n",
    "                            model.targets: y,\n",
    "                            model.keep_prob: 1.,\n",
    "                            model.initial_state: new_state}\n",
    "                    batch_loss, new_state = sess.run([model.cost, model.final_state], feed_dict=feed)\n",
    "                    val_loss.append(batch_loss)\n",
    "\n",
    "                print('Validation loss:', np.mean(val_loss),\n",
    "                      'Saving checkpoint!')\n",
    "                saver.save(sess, \"checkpoints/i{}_l{}_v{:.3f}.ckpt\".format(iteration, lstm_size, np.mean(val_loss)))"
   ]
  },
  {
   "cell_type": "markdown",
   "metadata": {
    "deletable": true,
    "editable": true
   },
   "source": [
    "#### Saved checkpoints\n",
    "\n",
    "Read up on saving and loading checkpoints here: https://www.tensorflow.org/programmers_guide/variables"
   ]
  },
  {
   "cell_type": "code",
   "execution_count": null,
   "metadata": {
    "collapsed": false,
    "deletable": true,
    "editable": true
   },
   "outputs": [],
   "source": [
    "tf.train.get_checkpoint_state('checkpoints')"
   ]
  },
  {
   "cell_type": "markdown",
   "metadata": {
    "deletable": true,
    "editable": true
   },
   "source": [
    "## Sampling\n",
    "\n",
    "Now that the network is trained, we'll can use it to generate new text. The idea is that we pass in a character, then the network will predict the next character. We can use the new one, to predict the next one. And we keep doing this to generate all new text. I also included some functionality to prime the network with some text by passing in a string and building up a state from that.\n",
    "\n",
    "The network gives us predictions for each character. To reduce noise and make things a little less random, I'm going to only choose a new character from the top N most likely characters.\n",
    "\n"
   ]
  },
  {
   "cell_type": "code",
   "execution_count": 17,
   "metadata": {
    "collapsed": true,
    "deletable": true,
    "editable": true
   },
   "outputs": [],
   "source": [
    "def pick_top_n(preds, vocab_size, top_n=5):\n",
    "    p = np.squeeze(preds)\n",
    "    p[np.argsort(p)[:-top_n]] = 0\n",
    "    p = p / np.sum(p)\n",
    "    c = np.random.choice(vocab_size, 1, p=p)[0]\n",
    "    return c"
   ]
  },
  {
   "cell_type": "code",
   "execution_count": 41,
   "metadata": {
    "collapsed": true,
    "deletable": true,
    "editable": true
   },
   "outputs": [],
   "source": [
    "def sample(checkpoint, n_samples, lstm_size, vocab_size, prime=\"The \"):\n",
    "    samples = [c for c in prime]\n",
    "    model = build_rnn(vocab_size, lstm_size=lstm_size, sampling=True)\n",
    "    saver = tf.train.Saver()\n",
    "    with tf.Session() as sess:\n",
    "        saver.restore(sess, checkpoint)\n",
    "        new_state = sess.run(model.initial_state)\n",
    "        for c in prime:\n",
    "            x = np.zeros((1, 1))\n",
    "            x[0,0] = vocab_to_int[c]\n",
    "            feed = {model.inputs: x,\n",
    "                    model.keep_prob: 1.,\n",
    "                    model.initial_state: new_state}\n",
    "            preds, new_state = sess.run([model.preds, model.final_state], \n",
    "                                         feed_dict=feed)\n",
    "\n",
    "        c = pick_top_n(preds, len(vocab))\n",
    "        samples.append(int_to_vocab[c])\n",
    "\n",
    "        for i in range(n_samples):\n",
    "            x[0,0] = c\n",
    "            feed = {model.inputs: x,\n",
    "                    model.keep_prob: 1.,\n",
    "                    model.initial_state: new_state}\n",
    "            preds, new_state = sess.run([model.preds, model.final_state], \n",
    "                                         feed_dict=feed)\n",
    "\n",
    "            c = pick_top_n(preds, len(vocab))\n",
    "            samples.append(int_to_vocab[c])\n",
    "        \n",
    "    return ''.join(samples)"
   ]
  },
  {
   "cell_type": "markdown",
   "metadata": {
    "deletable": true,
    "editable": true
   },
   "source": [
    "Here, pass in the path to a checkpoint and sample from the network."
   ]
  },
  {
   "cell_type": "code",
   "execution_count": null,
   "metadata": {
    "collapsed": false,
    "deletable": true,
    "editable": true
   },
   "outputs": [],
   "source": [
    "checkpoint = \"checkpoints/____.ckpt\"\n",
    "samp = sample(checkpoint, 2000, lstm_size, len(vocab), prime=\"Far\")\n",
    "print(samp)"
   ]
  }
 ],
 "metadata": {
  "kernelspec": {
   "display_name": "Python 3",
   "language": "python",
   "name": "python3"
  },
  "language_info": {
   "codemirror_mode": {
    "name": "ipython",
    "version": 3
   },
   "file_extension": ".py",
   "mimetype": "text/x-python",
   "name": "python",
   "nbconvert_exporter": "python",
   "pygments_lexer": "ipython3",
   "version": "3.5.3"
  }
 },
 "nbformat": 4,
 "nbformat_minor": 2
}
