{
 "cells": [
  {
   "cell_type": "markdown",
   "metadata": {
    "collapsed": true,
    "deletable": true,
    "editable": true
   },
   "source": [
    "# Language Translation\n",
    "In this project, you’re going to take a peek into the realm of neural network machine translation.  You’ll be training a sequence to sequence model on a dataset of English and French sentences that can translate new sentences from English to French.\n",
    "## Get the Data\n",
    "Since translating the whole language of English to French will take lots of time to train, we have provided you with a small portion of the English corpus."
   ]
  },
  {
   "cell_type": "code",
   "execution_count": 1,
   "metadata": {
    "collapsed": false,
    "deletable": true,
    "editable": true
   },
   "outputs": [],
   "source": [
    "\"\"\"\n",
    "DON'T MODIFY ANYTHING IN THIS CELL\n",
    "\"\"\"\n",
    "import helper\n",
    "import problem_unittests as tests\n",
    "\n",
    "source_path = 'data/small_vocab_en'\n",
    "target_path = 'data/small_vocab_fr'\n",
    "source_text = helper.load_data(source_path)\n",
    "target_text = helper.load_data(target_path)"
   ]
  },
  {
   "cell_type": "markdown",
   "metadata": {
    "deletable": true,
    "editable": true
   },
   "source": [
    "## Explore the Data\n",
    "Play around with view_sentence_range to view different parts of the data."
   ]
  },
  {
   "cell_type": "code",
   "execution_count": 2,
   "metadata": {
    "collapsed": false,
    "deletable": true,
    "editable": true
   },
   "outputs": [
    {
     "name": "stdout",
     "output_type": "stream",
     "text": [
      "Dataset Stats\n",
      "Roughly the number of unique words: 227\n",
      "Number of sentences: 137861\n",
      "Average number of words in a sentence: 13.225277634719028\n",
      "\n",
      "English sentences 0 to 10:\n",
      "new jersey is sometimes quiet during autumn , and it is snowy in april .\n",
      "the united states is usually chilly during july , and it is usually freezing in november .\n",
      "california is usually quiet during march , and it is usually hot in june .\n",
      "the united states is sometimes mild during june , and it is cold in september .\n",
      "your least liked fruit is the grape , but my least liked is the apple .\n",
      "his favorite fruit is the orange , but my favorite is the grape .\n",
      "paris is relaxing during december , but it is usually chilly in july .\n",
      "new jersey is busy during spring , and it is never hot in march .\n",
      "our least liked fruit is the lemon , but my least liked is the grape .\n",
      "the united states is sometimes busy during january , and it is sometimes warm in november .\n",
      "\n",
      "French sentences 0 to 10:\n",
      "new jersey est parfois calme pendant l' automne , et il est neigeux en avril .\n",
      "les états-unis est généralement froid en juillet , et il gèle habituellement en novembre .\n",
      "california est généralement calme en mars , et il est généralement chaud en juin .\n",
      "les états-unis est parfois légère en juin , et il fait froid en septembre .\n",
      "votre moins aimé fruit est le raisin , mais mon moins aimé est la pomme .\n",
      "son fruit préféré est l'orange , mais mon préféré est le raisin .\n",
      "paris est relaxant en décembre , mais il est généralement froid en juillet .\n",
      "new jersey est occupé au printemps , et il est jamais chaude en mars .\n",
      "notre fruit est moins aimé le citron , mais mon moins aimé est le raisin .\n",
      "les états-unis est parfois occupé en janvier , et il est parfois chaud en novembre .\n"
     ]
    }
   ],
   "source": [
    "view_sentence_range = (0, 10)\n",
    "\n",
    "\"\"\"\n",
    "DON'T MODIFY ANYTHING IN THIS CELL\n",
    "\"\"\"\n",
    "import numpy as np\n",
    "\n",
    "print('Dataset Stats')\n",
    "print('Roughly the number of unique words: {}'.format(len({word: None for word in source_text.split()})))\n",
    "\n",
    "sentences = source_text.split('\\n')\n",
    "word_counts = [len(sentence.split()) for sentence in sentences]\n",
    "print('Number of sentences: {}'.format(len(sentences)))\n",
    "print('Average number of words in a sentence: {}'.format(np.average(word_counts)))\n",
    "\n",
    "print()\n",
    "print('English sentences {} to {}:'.format(*view_sentence_range))\n",
    "print('\\n'.join(source_text.split('\\n')[view_sentence_range[0]:view_sentence_range[1]]))\n",
    "print()\n",
    "print('French sentences {} to {}:'.format(*view_sentence_range))\n",
    "print('\\n'.join(target_text.split('\\n')[view_sentence_range[0]:view_sentence_range[1]]))"
   ]
  },
  {
   "cell_type": "markdown",
   "metadata": {
    "deletable": true,
    "editable": true
   },
   "source": [
    "## Implement Preprocessing Function\n",
    "### Text to Word Ids\n",
    "As you did with other RNNs, you must turn the text into a number so the computer can understand it. In the function `text_to_ids()`, you'll turn `source_text` and `target_text` from words to ids.  However, you need to add the `<EOS>` word id at the end of each sentence from `target_text`.  This will help the neural network predict when the sentence should end.\n",
    "\n",
    "You can get the `<EOS>` word id by doing:\n",
    "```python\n",
    "target_vocab_to_int['<EOS>']\n",
    "```\n",
    "You can get other word ids using `source_vocab_to_int` and `target_vocab_to_int`."
   ]
  },
  {
   "cell_type": "code",
   "execution_count": 3,
   "metadata": {
    "collapsed": false,
    "deletable": true,
    "editable": true
   },
   "outputs": [
    {
     "name": "stdout",
     "output_type": "stream",
     "text": [
      "new jersey is sometimes quiet during autumn , and it is snowy in april .\n",
      "the united states is usually chilly during july , and it is usually freezing in november .\n",
      "california is usually quiet during m\n",
      "new jersey is sometimes quiet during autumn , and it is snowy in april .\n"
     ]
    },
    {
     "data": {
      "text/plain": [
       "[['new',\n",
       "  'jersey',\n",
       "  'is',\n",
       "  'sometimes',\n",
       "  'quiet',\n",
       "  'during',\n",
       "  'autumn',\n",
       "  ',',\n",
       "  'and',\n",
       "  'it',\n",
       "  'is',\n",
       "  'snowy',\n",
       "  'in',\n",
       "  'april',\n",
       "  '.',\n",
       "  '<EOS>'],\n",
       " ['the',\n",
       "  'united',\n",
       "  'states',\n",
       "  'is',\n",
       "  'usually',\n",
       "  'chilly',\n",
       "  'during',\n",
       "  'july',\n",
       "  ',',\n",
       "  'and',\n",
       "  'it',\n",
       "  'is',\n",
       "  'usually',\n",
       "  'freezing',\n",
       "  'in',\n",
       "  'november',\n",
       "  '.',\n",
       "  '<EOS>'],\n",
       " ['california', 'is', 'usually', 'quiet', 'during', 'm', '<EOS>']]"
      ]
     },
     "execution_count": 3,
     "metadata": {},
     "output_type": "execute_result"
    }
   ],
   "source": [
    "print(source_text[:200])\n",
    "print(sentences[0])\n",
    "\n",
    "a = source_text[:200]\n",
    "[word for line in a.split('\\n') for word in line.split()]\n",
    "[[word for word in line.split()]+['<EOS>'] for line in a.split('\\n')]\n",
    "\n",
    "#[[target_vocab_to_int.get(word) for word in line] for line in target_text.split('\\n')]\n"
   ]
  },
  {
   "cell_type": "code",
   "execution_count": 4,
   "metadata": {
    "collapsed": false,
    "deletable": true,
    "editable": true
   },
   "outputs": [
    {
     "name": "stdout",
     "output_type": "stream",
     "text": [
      "Tests Passed\n"
     ]
    }
   ],
   "source": [
    "\n",
    "def text_to_ids(source_text, target_text, source_vocab_to_int, target_vocab_to_int):\n",
    "    \"\"\"\n",
    "    Convert source and target text to proper word ids\n",
    "    :param source_text: String that contains all the source text.\n",
    "    :param target_text: String that contains all the target text.\n",
    "    :param source_vocab_to_int: Dictionary to go from the source words to an id\n",
    "    :param target_vocab_to_int: Dictionary to go from the target words to an id\n",
    "    :return: A tuple of lists (source_id_text, target_id_text)\n",
    "    \"\"\"\n",
    "    eos_id = target_vocab_to_int['<EOS>']\n",
    "    \n",
    "    # source text (English)\n",
    "    #set_words = set([word for line in source_text.split('\\n') for word in line.split()]) # set of all the characters that appear in the data\n",
    "    #source_int_to_vocab = {word_i: word for word_i, word in enumerate(list(set_words))}\n",
    "    #source_vocab_to_int = {word: word_i for word_i, word in int_to_vocab.items()}\n",
    "    \n",
    "    # Convert characters to ids\n",
    "    source_vocab_to_int = [[source_vocab_to_int.get(word) for word in line.split()] for line in source_text.split('\\n')]\n",
    "    target_vocab_to_int = [[target_vocab_to_int.get(word) for word in line.split()] + [eos_id] for line in target_text.split('\\n')]\n",
    "    \n",
    "    # TODO: Implement Function\n",
    "    return source_vocab_to_int, target_vocab_to_int\n",
    "\n",
    "\"\"\"\n",
    "DON'T MODIFY ANYTHING IN THIS CELL THAT IS BELOW THIS LINE\n",
    "\"\"\"\n",
    "tests.test_text_to_ids(text_to_ids)"
   ]
  },
  {
   "cell_type": "markdown",
   "metadata": {
    "deletable": true,
    "editable": true
   },
   "source": [
    "### Preprocess all the data and save it\n",
    "Running the code cell below will preprocess all the data and save it to file."
   ]
  },
  {
   "cell_type": "code",
   "execution_count": 5,
   "metadata": {
    "collapsed": false,
    "deletable": true,
    "editable": true
   },
   "outputs": [],
   "source": [
    "\"\"\"\n",
    "DON'T MODIFY ANYTHING IN THIS CELL\n",
    "\"\"\"\n",
    "helper.preprocess_and_save_data(source_path, target_path, text_to_ids)"
   ]
  },
  {
   "cell_type": "markdown",
   "metadata": {
    "deletable": true,
    "editable": true
   },
   "source": [
    "# Check Point\n",
    "This is your first checkpoint. If you ever decide to come back to this notebook or have to restart the notebook, you can start from here. The preprocessed data has been saved to disk."
   ]
  },
  {
   "cell_type": "code",
   "execution_count": 2,
   "metadata": {
    "collapsed": false,
    "deletable": true,
    "editable": true
   },
   "outputs": [],
   "source": [
    "\"\"\"\n",
    "DON'T MODIFY ANYTHING IN THIS CELL\n",
    "\"\"\"\n",
    "import numpy as np\n",
    "import helper\n",
    "\n",
    "(source_int_text, target_int_text), (source_vocab_to_int, target_vocab_to_int), _ = helper.load_preprocess()"
   ]
  },
  {
   "cell_type": "markdown",
   "metadata": {
    "deletable": true,
    "editable": true
   },
   "source": [
    "### Check the Version of TensorFlow and Access to GPU\n",
    "This will check to make sure you have the correct version of TensorFlow and access to a GPU"
   ]
  },
  {
   "cell_type": "code",
   "execution_count": 3,
   "metadata": {
    "collapsed": false,
    "deletable": true,
    "editable": true
   },
   "outputs": [
    {
     "name": "stdout",
     "output_type": "stream",
     "text": [
      "TensorFlow Version: 1.0.0\n",
      "Default GPU Device: /gpu:0\n"
     ]
    }
   ],
   "source": [
    "\"\"\"\n",
    "DON'T MODIFY ANYTHING IN THIS CELL\n",
    "\"\"\"\n",
    "from distutils.version import LooseVersion\n",
    "import warnings\n",
    "import tensorflow as tf\n",
    "\n",
    "# Check TensorFlow Version\n",
    "assert LooseVersion(tf.__version__) in [LooseVersion('1.0.0'), LooseVersion('1.0.1')], 'This project requires TensorFlow version 1.0  You are using {}'.format(tf.__version__)\n",
    "print('TensorFlow Version: {}'.format(tf.__version__))\n",
    "\n",
    "# Check for a GPU\n",
    "if not tf.test.gpu_device_name():\n",
    "    warnings.warn('No GPU found. Please use a GPU to train your neural network.')\n",
    "else:\n",
    "    print('Default GPU Device: {}'.format(tf.test.gpu_device_name()))"
   ]
  },
  {
   "cell_type": "markdown",
   "metadata": {
    "deletable": true,
    "editable": true
   },
   "source": [
    "## Build the Neural Network\n",
    "You'll build the components necessary to build a Sequence-to-Sequence model by implementing the following functions below:\n",
    "- `model_inputs`\n",
    "- `process_decoding_input`\n",
    "- `encoding_layer`\n",
    "- `decoding_layer_train`\n",
    "- `decoding_layer_infer`\n",
    "- `decoding_layer`\n",
    "- `seq2seq_model`\n",
    "\n",
    "### Input\n",
    "Implement the `model_inputs()` function to create TF Placeholders for the Neural Network. It should create the following placeholders:\n",
    "\n",
    "- Input text placeholder named \"input\" using the TF Placeholder name parameter with rank 2.\n",
    "- Targets placeholder with rank 2.\n",
    "- Learning rate placeholder with rank 0.\n",
    "- Keep probability placeholder named \"keep_prob\" using the TF Placeholder name parameter with rank 0.\n",
    "\n",
    "Return the placeholders in the following the tuple (Input, Targets, Learing Rate, Keep Probability)"
   ]
  },
  {
   "cell_type": "code",
   "execution_count": 4,
   "metadata": {
    "collapsed": false,
    "deletable": true,
    "editable": true
   },
   "outputs": [
    {
     "name": "stdout",
     "output_type": "stream",
     "text": [
      "Tests Passed\n"
     ]
    }
   ],
   "source": [
    "def model_inputs():\n",
    "    \"\"\"\n",
    "    Create TF Placeholders for input, targets, and learning rate.\n",
    "    :return: Tuple (input, targets, learning rate, keep probability)\n",
    "    \"\"\"\n",
    "    # TODO: Implement Function\n",
    "    input = tf.placeholder(tf.int32, [None, None], name='input')\n",
    "    targets = tf.placeholder(tf.int32, [None, None], name='targets')\n",
    "    lr = tf.placeholder(tf.float32, name='learning_rate')\n",
    "    keep_prob = tf.placeholder(tf.float32, name='keep_prob')\n",
    "    return input, targets, lr, keep_prob\n",
    "\n",
    "\"\"\"\n",
    "DON'T MODIFY ANYTHING IN THIS CELL THAT IS BELOW THIS LINE\n",
    "\"\"\"\n",
    "tests.test_model_inputs(model_inputs)"
   ]
  },
  {
   "cell_type": "markdown",
   "metadata": {
    "deletable": true,
    "editable": true
   },
   "source": [
    "### Process Decoding Input\n",
    "Implement `process_decoding_input` using TensorFlow to remove the last word id from each batch in `target_data` and concat the GO ID to the beginning of each batch."
   ]
  },
  {
   "cell_type": "code",
   "execution_count": 5,
   "metadata": {
    "collapsed": false,
    "deletable": true,
    "editable": true
   },
   "outputs": [
    {
     "name": "stdout",
     "output_type": "stream",
     "text": [
      "Tests Passed\n"
     ]
    }
   ],
   "source": [
    "def process_decoding_input(target_data, target_vocab_to_int, batch_size):\n",
    "    \"\"\"\n",
    "    Preprocess target data for dencoding\n",
    "    :param target_data: Target Placehoder\n",
    "    :param target_vocab_to_int: Dictionary to go from the target words to an id\n",
    "    :param batch_size: Batch Size\n",
    "    :return: Preprocessed target data\n",
    "    \"\"\"\n",
    "    ending = tf.strided_slice(target_data, [0, 0], [batch_size, -1], [1, 1])\n",
    "    dec_input = tf.concat([tf.fill([batch_size, 1], target_vocab_to_int['<GO>']), ending], 1)\n",
    "\n",
    "    # demonstration_outputs = np.reshape(range(batch_size * sequence_length), (batch_size, sequence_length))\n",
    "\n",
    "    # TODO: Implement Function\n",
    "    \n",
    "    return dec_input\n",
    "\n",
    "\"\"\"\n",
    "DON'T MODIFY ANYTHING IN THIS CELL THAT IS BELOW THIS LINE\n",
    "\"\"\"\n",
    "tests.test_process_decoding_input(process_decoding_input)"
   ]
  },
  {
   "cell_type": "markdown",
   "metadata": {
    "deletable": true,
    "editable": true
   },
   "source": [
    "### Encoding\n",
    "Implement `encoding_layer()` to create a Encoder RNN layer using [`tf.nn.dynamic_rnn()`](https://www.tensorflow.org/api_docs/python/tf/nn/dynamic_rnn)."
   ]
  },
  {
   "cell_type": "code",
   "execution_count": 6,
   "metadata": {
    "collapsed": false,
    "deletable": true,
    "editable": true
   },
   "outputs": [
    {
     "name": "stdout",
     "output_type": "stream",
     "text": [
      "Tests Passed\n"
     ]
    }
   ],
   "source": [
    "def encoding_layer(rnn_inputs, rnn_size, num_layers, keep_prob):\n",
    "    \"\"\"\n",
    "    Create encoding layer\n",
    "    :param rnn_inputs: Inputs for the RNN\n",
    "    :param rnn_size: RNN Size\n",
    "    :param num_layers: Number of layers\n",
    "    :param keep_prob: Dropout keep probability\n",
    "    :return: RNN state\n",
    "    \"\"\"\n",
    "\n",
    "    # Encoder\n",
    "    enc_cell = tf.contrib.rnn.MultiRNNCell([tf.contrib.rnn.BasicLSTMCell(rnn_size)] * num_layers)\n",
    "    enc_cell = tf.contrib.rnn.DropoutWrapper(enc_cell, output_keep_prob=keep_prob)\n",
    "    _, enc_state = tf.nn.dynamic_rnn(enc_cell, rnn_inputs, dtype=tf.float32)\n",
    "\n",
    "    # TODO: Implement Function\n",
    "    return enc_state\n",
    "\n",
    "\"\"\"\n",
    "DON'T MODIFY ANYTHING IN THIS CELL THAT IS BELOW THIS LINE\n",
    "\"\"\"\n",
    "tests.test_encoding_layer(encoding_layer)"
   ]
  },
  {
   "cell_type": "markdown",
   "metadata": {
    "deletable": true,
    "editable": true
   },
   "source": [
    "### Decoding - Training\n",
    "Create training logits using [`tf.contrib.seq2seq.simple_decoder_fn_train()`](https://www.tensorflow.org/versions/r1.0/api_docs/python/tf/contrib/seq2seq/simple_decoder_fn_train) and [`tf.contrib.seq2seq.dynamic_rnn_decoder()`](https://www.tensorflow.org/versions/r1.0/api_docs/python/tf/contrib/seq2seq/dynamic_rnn_decoder).  Apply the `output_fn` to the [`tf.contrib.seq2seq.dynamic_rnn_decoder()`](https://www.tensorflow.org/versions/r1.0/api_docs/python/tf/contrib/seq2seq/dynamic_rnn_decoder) outputs."
   ]
  },
  {
   "cell_type": "code",
   "execution_count": 7,
   "metadata": {
    "collapsed": false,
    "deletable": true,
    "editable": true
   },
   "outputs": [
    {
     "name": "stdout",
     "output_type": "stream",
     "text": [
      "Tests Passed\n"
     ]
    }
   ],
   "source": [
    "def decoding_layer_train(encoder_state, dec_cell, dec_embed_input, sequence_length, decoding_scope,\n",
    "                         output_fn, keep_prob):\n",
    "    \"\"\"\n",
    "    Create a decoding layer for training\n",
    "    :param encoder_state: Encoder State\n",
    "    :param dec_cell: Decoder RNN Cell\n",
    "    :param dec_embed_input: Decoder embedded input\n",
    "    :param sequence_length: Sequence Length\n",
    "    :param decoding_scope: TenorFlow Variable Scope for decoding\n",
    "    :param output_fn: Function to apply the output layer\n",
    "    :param keep_prob: Dropout keep probability\n",
    "    :return: Train Logits\n",
    "    \"\"\"\n",
    "    # TODO: Implement Function\n",
    "    \n",
    "    train_decoder_fn = tf.contrib.seq2seq.simple_decoder_fn_train(encoder_state)\n",
    "    train_pred, _, _ = tf.contrib.seq2seq.dynamic_rnn_decoder(\n",
    "        dec_cell, train_decoder_fn, dec_embed_input, sequence_length, scope=decoding_scope)\n",
    "    \n",
    "    # Apply output function\n",
    "    train_logits =  output_fn(train_pred)\n",
    "    #train_logits = tf.contrib.rnn.DropoutWrapper(train_logits, output_keep_prob=keep_prob)\n",
    "    return train_logits\n",
    "\n",
    "\n",
    "\"\"\"\n",
    "DON'T MODIFY ANYTHING IN THIS CELL THAT IS BELOW THIS LINE\n",
    "\"\"\"\n",
    "tests.test_decoding_layer_train(decoding_layer_train)"
   ]
  },
  {
   "cell_type": "markdown",
   "metadata": {
    "deletable": true,
    "editable": true
   },
   "source": [
    "### Decoding - Inference\n",
    "Create inference logits using [`tf.contrib.seq2seq.simple_decoder_fn_inference()`](https://www.tensorflow.org/versions/r1.0/api_docs/python/tf/contrib/seq2seq/simple_decoder_fn_inference) and [`tf.contrib.seq2seq.dynamic_rnn_decoder()`](https://www.tensorflow.org/versions/r1.0/api_docs/python/tf/contrib/seq2seq/dynamic_rnn_decoder). "
   ]
  },
  {
   "cell_type": "code",
   "execution_count": 8,
   "metadata": {
    "collapsed": false,
    "deletable": true,
    "editable": true
   },
   "outputs": [
    {
     "name": "stdout",
     "output_type": "stream",
     "text": [
      "Tests Passed\n"
     ]
    }
   ],
   "source": [
    "def decoding_layer_infer(encoder_state, dec_cell, dec_embeddings, start_of_sequence_id, end_of_sequence_id,\n",
    "                         maximum_length, vocab_size, decoding_scope, output_fn, keep_prob):\n",
    "    \"\"\"\n",
    "    Create a decoding layer for inference\n",
    "    :param encoder_state: Encoder state\n",
    "    :param dec_cell: Decoder RNN Cell\n",
    "    :param dec_embeddings: Decoder embeddings\n",
    "    :param start_of_sequence_id: GO ID\n",
    "    :param end_of_sequence_id: EOS Id\n",
    "    :param maximum_length: The maximum allowed time steps to decode\n",
    "    :param vocab_size: Size of vocabulary\n",
    "    :param decoding_scope: TensorFlow Variable Scope for decoding\n",
    "    :param output_fn: Function to apply the output layer\n",
    "    :param keep_prob: Dropout keep probability\n",
    "    :return: Inference Logits\n",
    "    \"\"\"\n",
    "    # TODO: Implement Function\n",
    "    infer_decoder_fn = tf.contrib.seq2seq.simple_decoder_fn_inference(\n",
    "        output_fn, encoder_state, dec_embeddings, start_of_sequence_id, end_of_sequence_id, \n",
    "        maximum_length - 1, vocab_size)\n",
    "    inference_logits, _, _ = tf.contrib.seq2seq.dynamic_rnn_decoder(dec_cell, infer_decoder_fn, scope=decoding_scope)    \n",
    "    return inference_logits\n",
    "\n",
    "\n",
    "\"\"\"\n",
    "DON'T MODIFY ANYTHING IN THIS CELL THAT IS BELOW THIS LINE\n",
    "\"\"\"\n",
    "tests.test_decoding_layer_infer(decoding_layer_infer)"
   ]
  },
  {
   "cell_type": "markdown",
   "metadata": {
    "deletable": true,
    "editable": true
   },
   "source": [
    "### Build the Decoding Layer\n",
    "Implement `decoding_layer()` to create a Decoder RNN layer.\n",
    "\n",
    "- Create RNN cell for decoding using `rnn_size` and `num_layers`.\n",
    "- Create the output fuction using [`lambda`](https://docs.python.org/3/tutorial/controlflow.html#lambda-expressions) to transform it's input, logits, to class logits.\n",
    "- Use the your `decoding_layer_train(encoder_state, dec_cell, dec_embed_input, sequence_length, decoding_scope, output_fn, keep_prob)` function to get the training logits.\n",
    "- Use your `decoding_layer_infer(encoder_state, dec_cell, dec_embeddings, start_of_sequence_id, end_of_sequence_id, maximum_length, vocab_size, decoding_scope, output_fn, keep_prob)` function to get the inference logits.\n",
    "\n",
    "Note: You'll need to use [tf.variable_scope](https://www.tensorflow.org/api_docs/python/tf/variable_scope) to share variables between training and inference."
   ]
  },
  {
   "cell_type": "code",
   "execution_count": 9,
   "metadata": {
    "collapsed": false,
    "deletable": true,
    "editable": true
   },
   "outputs": [
    {
     "name": "stdout",
     "output_type": "stream",
     "text": [
      "Tests Passed\n"
     ]
    }
   ],
   "source": [
    "def decoding_layer(dec_embed_input, dec_embeddings, encoder_state, vocab_size, sequence_length, rnn_size,\n",
    "                   num_layers, target_vocab_to_int, keep_prob):\n",
    "    \"\"\"\n",
    "    Create decoding layer\n",
    "    :param dec_embed_input: Decoder embedded input\n",
    "    :param dec_embeddings: Decoder embeddings\n",
    "    :param encoder_state: The encoded state\n",
    "    :param vocab_size: Size of vocabulary\n",
    "    :param sequence_length: Sequence Length\n",
    "    :param rnn_size: RNN Size\n",
    "    :param num_layers: Number of layers\n",
    "    :param target_vocab_to_int: Dictionary to go from the target words to an id\n",
    "    :param keep_prob: Dropout keep probability\n",
    "    :return: Tuple of (Training Logits, Inference Logits)\n",
    "    \"\"\"\n",
    "    # TODO: Implement Function\n",
    "    # Decoder Embedding\n",
    "    #dec_embeddings = tf.Variable(tf.random_uniform([target_vocab_size, decoding_embedding_size]))\n",
    "    #dec_embed_input = tf.nn.embedding_lookup(dec_embeddings, dec_input)\n",
    "\n",
    "    # Decoder RNNs\n",
    "    dec_cell = tf.contrib.rnn.MultiRNNCell([tf.contrib.rnn.BasicLSTMCell(rnn_size)] * num_layers)\n",
    "    dec_cell = tf.contrib.rnn.DropoutWrapper(dec_cell, output_keep_prob=keep_prob)\n",
    "\n",
    "    with tf.variable_scope(\"decoding\") as decoding_scope:\n",
    "        # Output Layer\n",
    "        output_fn = lambda x: tf.contrib.layers.fully_connected(x, vocab_size, None, scope=decoding_scope)\n",
    "        train_logits = decoding_layer_train(encoder_state, dec_cell, dec_embed_input, sequence_length,decoding_scope, \n",
    "                                          output_fn, keep_prob)\n",
    "    \n",
    "    with tf.variable_scope(\"decoding\", reuse=True) as decoding_scope:\n",
    "        #training_logits = decoding_layer_train(encoder_state, dec_cell, dec_embed_input, sequence_length, decoding_scope, output_fn, keep_prob)\n",
    "        inference_logits = decoding_layer_infer(encoder_state, dec_cell, dec_embeddings, target_vocab_to_int['<GO>'], \n",
    "                                                target_vocab_to_int['<EOS>'], sequence_length, vocab_size, decoding_scope, output_fn, keep_prob)\n",
    "    return (train_logits, inference_logits)\n",
    "\n",
    "\n",
    "\"\"\"\n",
    "DON'T MODIFY ANYTHING IN THIS CELL THAT IS BELOW THIS LINE\n",
    "\"\"\"\n",
    "tests.test_decoding_layer(decoding_layer)"
   ]
  },
  {
   "cell_type": "markdown",
   "metadata": {
    "deletable": true,
    "editable": true
   },
   "source": [
    "### Build the Neural Network\n",
    "Apply the functions you implemented above to:\n",
    "\n",
    "- Apply embedding to the input data for the encoder.\n",
    "- Encode the input using your `encoding_layer(rnn_inputs, rnn_size, num_layers, keep_prob)`.\n",
    "- Process target data using your `process_decoding_input(target_data, target_vocab_to_int, batch_size)` function.\n",
    "- Apply embedding to the target data for the decoder.\n",
    "- Decode the encoded input using your `decoding_layer(dec_embed_input, dec_embeddings, encoder_state, vocab_size, sequence_length, rnn_size, num_layers, target_vocab_to_int, keep_prob)`."
   ]
  },
  {
   "cell_type": "code",
   "execution_count": 10,
   "metadata": {
    "collapsed": false,
    "deletable": true,
    "editable": true
   },
   "outputs": [
    {
     "name": "stdout",
     "output_type": "stream",
     "text": [
      "Tests Passed\n"
     ]
    }
   ],
   "source": [
    "def seq2seq_model(input_data, target_data, keep_prob, batch_size, sequence_length, source_vocab_size, target_vocab_size,\n",
    "                  enc_embedding_size, dec_embedding_size, rnn_size, num_layers, target_vocab_to_int):\n",
    "    \"\"\"\n",
    "    Build the Sequence-to-Sequence part of the neural network\n",
    "    :param input_data: Input placeholder\n",
    "    :param target_data: Target placeholder\n",
    "    :param keep_prob: Dropout keep probability placeholder\n",
    "    :param batch_size: Batch Size\n",
    "    :param sequence_length: Sequence Length\n",
    "    :param source_vocab_size: Source vocabulary size\n",
    "    :param target_vocab_size: Target vocabulary size\n",
    "    :param enc_embedding_size: Decoder embedding size\n",
    "    :param dec_embedding_size: Encoder embedding size\n",
    "    :param rnn_size: RNN Size\n",
    "    :param num_layers: Number of layers\n",
    "    :param target_vocab_to_int: Dictionary to go from the target words to an id\n",
    "    :return: Tuple of (Training Logits, Inference Logits)\n",
    "    \"\"\"\n",
    "    # TODO: Implement Function\n",
    "    # Apply embedding to the input data for the encoder.\n",
    "    enc_embed_input = tf.contrib.layers.embed_sequence(input_data, source_vocab_size, enc_embedding_size)\n",
    "    \n",
    "    # Encode the input using your encoding_layer(rnn_inputs, rnn_size, num_layers, keep_prob).\n",
    "    enc_state = encoding_layer(enc_embed_input, rnn_size, num_layers, keep_prob)\n",
    "    \n",
    "    # Process target data using your process_decoding_input(target_data, target_vocab_to_int, batch_size) function.\n",
    "    dec_input = process_decoding_input(target_data, target_vocab_to_int, batch_size)\n",
    "    \n",
    "    # Apply embedding to the target data for the decoder.\n",
    "    dec_embeddings = tf.Variable(tf.random_uniform([target_vocab_size, dec_embedding_size]))\n",
    "    dec_embed_input = tf.nn.embedding_lookup(dec_embeddings, dec_input)\n",
    "    \n",
    "    #enc_embed_target = tf.contrib.layers.embed_sequence(dec_input, target_vocab_size, dec_embedding_size)\n",
    "    \n",
    "    # Decode the encoded input using your decoding_layer(dec_embed_input, dec_embeddings, encoder_state, vocab_size, sequence_length, rnn_size, num_layers, target_vocab_to_int, keep_prob).\n",
    "    train_logits, inference_logits = decoding_layer(dec_embed_input, dec_embeddings, \n",
    "                                                    enc_state, target_vocab_size, sequence_length, rnn_size, num_layers, \n",
    "                                                    target_vocab_to_int, keep_prob)\n",
    "    return (train_logits, inference_logits)\n",
    "\n",
    "\n",
    "\"\"\"\n",
    "DON'T MODIFY ANYTHING IN THIS CELL THAT IS BELOW THIS LINE\n",
    "\"\"\"\n",
    "tests.test_seq2seq_model(seq2seq_model)"
   ]
  },
  {
   "cell_type": "markdown",
   "metadata": {
    "deletable": true,
    "editable": true
   },
   "source": [
    "## Neural Network Training\n",
    "### Hyperparameters\n",
    "Tune the following parameters:\n",
    "\n",
    "- Set `epochs` to the number of epochs.\n",
    "- Set `batch_size` to the batch size.\n",
    "- Set `rnn_size` to the size of the RNNs.\n",
    "- Set `num_layers` to the number of layers.\n",
    "- Set `encoding_embedding_size` to the size of the embedding for the encoder.\n",
    "- Set `decoding_embedding_size` to the size of the embedding for the decoder.\n",
    "- Set `learning_rate` to the learning rate.\n",
    "- Set `keep_probability` to the Dropout keep probability"
   ]
  },
  {
   "cell_type": "code",
   "execution_count": 11,
   "metadata": {
    "collapsed": true,
    "deletable": true,
    "editable": true
   },
   "outputs": [],
   "source": [
    "# Number of Epochs\n",
    "epochs = 10\n",
    "# Batch Size\n",
    "batch_size = 128\n",
    "# RNN Size\n",
    "rnn_size = 256\n",
    "# Number of Layers\n",
    "num_layers = 2\n",
    "# Embedding Size\n",
    "encoding_embedding_size = 100\n",
    "decoding_embedding_size = 100\n",
    "# Learning Rate\n",
    "learning_rate = 0.01\n",
    "# Dropout Keep Probability\n",
    "keep_probability = 0.9"
   ]
  },
  {
   "cell_type": "markdown",
   "metadata": {
    "deletable": true,
    "editable": true
   },
   "source": [
    "### Build the Graph\n",
    "Build the graph using the neural network you implemented."
   ]
  },
  {
   "cell_type": "code",
   "execution_count": 12,
   "metadata": {
    "collapsed": false,
    "deletable": true,
    "editable": true
   },
   "outputs": [],
   "source": [
    "\"\"\"\n",
    "DON'T MODIFY ANYTHING IN THIS CELL\n",
    "\"\"\"\n",
    "save_path = 'checkpoints/dev'\n",
    "(source_int_text, target_int_text), (source_vocab_to_int, target_vocab_to_int), _ = helper.load_preprocess()\n",
    "max_source_sentence_length = max([len(sentence) for sentence in source_int_text])\n",
    "\n",
    "train_graph = tf.Graph()\n",
    "with train_graph.as_default():\n",
    "    input_data, targets, lr, keep_prob = model_inputs()\n",
    "    sequence_length = tf.placeholder_with_default(max_source_sentence_length, None, name='sequence_length')\n",
    "    input_shape = tf.shape(input_data)\n",
    "    \n",
    "    train_logits, inference_logits = seq2seq_model(\n",
    "        tf.reverse(input_data, [-1]), targets, keep_prob, batch_size, sequence_length, len(source_vocab_to_int), len(target_vocab_to_int),\n",
    "        encoding_embedding_size, decoding_embedding_size, rnn_size, num_layers, target_vocab_to_int)\n",
    "\n",
    "    tf.identity(inference_logits, 'logits')\n",
    "    with tf.name_scope(\"optimization\"):\n",
    "        # Loss function\n",
    "        cost = tf.contrib.seq2seq.sequence_loss(\n",
    "            train_logits,\n",
    "            targets,\n",
    "            tf.ones([input_shape[0], sequence_length]))\n",
    "\n",
    "        # Optimizer\n",
    "        optimizer = tf.train.AdamOptimizer(lr)\n",
    "\n",
    "        # Gradient Clipping\n",
    "        gradients = optimizer.compute_gradients(cost)\n",
    "        capped_gradients = [(tf.clip_by_value(grad, -1., 1.), var) for grad, var in gradients if grad is not None]\n",
    "        train_op = optimizer.apply_gradients(capped_gradients)"
   ]
  },
  {
   "cell_type": "markdown",
   "metadata": {
    "deletable": true,
    "editable": true
   },
   "source": [
    "### Train\n",
    "Train the neural network on the preprocessed data. If you have a hard time getting a good loss, check the forms to see if anyone is having the same problem."
   ]
  },
  {
   "cell_type": "code",
   "execution_count": null,
   "metadata": {
    "collapsed": false,
    "deletable": true,
    "editable": true,
    "scrolled": true
   },
   "outputs": [
    {
     "name": "stdout",
     "output_type": "stream",
     "text": [
      "Epoch   0 Batch    0/1077 - Train Accuracy:  0.294, Validation Accuracy:  0.305, Loss:  5.889\n",
      "Epoch   0 Batch   10/1077 - Train Accuracy:  0.243, Validation Accuracy:  0.339, Loss:  3.774\n",
      "Epoch   0 Batch   20/1077 - Train Accuracy:  0.315, Validation Accuracy:  0.373, Loss:  3.126\n",
      "Epoch   0 Batch   30/1077 - Train Accuracy:  0.332, Validation Accuracy:  0.396, Loss:  2.871\n",
      "Epoch   0 Batch   40/1077 - Train Accuracy:  0.383, Validation Accuracy:  0.437, Loss:  2.613\n",
      "Epoch   0 Batch   50/1077 - Train Accuracy:  0.401, Validation Accuracy:  0.467, Loss:  2.449\n",
      "Epoch   0 Batch   60/1077 - Train Accuracy:  0.458, Validation Accuracy:  0.478, Loss:  2.081\n",
      "Epoch   0 Batch   70/1077 - Train Accuracy:  0.302, Validation Accuracy:  0.393, Loss:  1.939\n",
      "Epoch   0 Batch   80/1077 - Train Accuracy:  0.382, Validation Accuracy:  0.433, Loss:  1.635\n",
      "Epoch   0 Batch   90/1077 - Train Accuracy:  0.364, Validation Accuracy:  0.414, Loss:  1.484\n",
      "Epoch   0 Batch  100/1077 - Train Accuracy:  0.400, Validation Accuracy:  0.448, Loss:  1.275\n",
      "Epoch   0 Batch  110/1077 - Train Accuracy:  0.472, Validation Accuracy:  0.479, Loss:  1.086\n",
      "Epoch   0 Batch  120/1077 - Train Accuracy:  0.481, Validation Accuracy:  0.528, Loss:  1.088\n",
      "Epoch   0 Batch  130/1077 - Train Accuracy:  0.510, Validation Accuracy:  0.539, Loss:  0.938\n",
      "Epoch   0 Batch  140/1077 - Train Accuracy:  0.463, Validation Accuracy:  0.542, Loss:  0.996\n",
      "Epoch   0 Batch  150/1077 - Train Accuracy:  0.543, Validation Accuracy:  0.554, Loss:  0.878\n",
      "Epoch   0 Batch  160/1077 - Train Accuracy:  0.504, Validation Accuracy:  0.553, Loss:  0.857\n",
      "Epoch   0 Batch  170/1077 - Train Accuracy:  0.509, Validation Accuracy:  0.567, Loss:  0.885\n",
      "Epoch   0 Batch  180/1077 - Train Accuracy:  0.533, Validation Accuracy:  0.557, Loss:  0.810\n",
      "Epoch   0 Batch  190/1077 - Train Accuracy:  0.582, Validation Accuracy:  0.578, Loss:  0.777\n",
      "Epoch   0 Batch  200/1077 - Train Accuracy:  0.538, Validation Accuracy:  0.571, Loss:  0.776\n",
      "Epoch   0 Batch  210/1077 - Train Accuracy:  0.603, Validation Accuracy:  0.588, Loss:  0.743\n",
      "Epoch   0 Batch  220/1077 - Train Accuracy:  0.573, Validation Accuracy:  0.600, Loss:  0.718\n",
      "Epoch   0 Batch  230/1077 - Train Accuracy:  0.621, Validation Accuracy:  0.590, Loss:  0.715\n",
      "Epoch   0 Batch  240/1077 - Train Accuracy:  0.630, Validation Accuracy:  0.605, Loss:  0.682\n",
      "Epoch   0 Batch  250/1077 - Train Accuracy:  0.619, Validation Accuracy:  0.594, Loss:  0.629\n",
      "Epoch   0 Batch  260/1077 - Train Accuracy:  0.623, Validation Accuracy:  0.607, Loss:  0.642\n",
      "Epoch   0 Batch  270/1077 - Train Accuracy:  0.580, Validation Accuracy:  0.603, Loss:  0.704\n",
      "Epoch   0 Batch  280/1077 - Train Accuracy:  0.644, Validation Accuracy:  0.620, Loss:  0.677\n",
      "Epoch   0 Batch  290/1077 - Train Accuracy:  0.598, Validation Accuracy:  0.594, Loss:  0.672\n",
      "Epoch   0 Batch  300/1077 - Train Accuracy:  0.635, Validation Accuracy:  0.603, Loss:  0.639\n",
      "Epoch   0 Batch  310/1077 - Train Accuracy:  0.605, Validation Accuracy:  0.607, Loss:  0.640\n",
      "Epoch   0 Batch  320/1077 - Train Accuracy:  0.662, Validation Accuracy:  0.608, Loss:  0.625\n",
      "Epoch   0 Batch  330/1077 - Train Accuracy:  0.657, Validation Accuracy:  0.621, Loss:  0.593\n",
      "Epoch   0 Batch  340/1077 - Train Accuracy:  0.624, Validation Accuracy:  0.617, Loss:  0.592\n",
      "Epoch   0 Batch  350/1077 - Train Accuracy:  0.642, Validation Accuracy:  0.627, Loss:  0.594\n",
      "Epoch   0 Batch  360/1077 - Train Accuracy:  0.669, Validation Accuracy:  0.616, Loss:  0.568\n",
      "Epoch   0 Batch  370/1077 - Train Accuracy:  0.685, Validation Accuracy:  0.651, Loss:  0.520\n",
      "Epoch   0 Batch  380/1077 - Train Accuracy:  0.648, Validation Accuracy:  0.628, Loss:  0.528\n",
      "Epoch   0 Batch  390/1077 - Train Accuracy:  0.614, Validation Accuracy:  0.654, Loss:  0.554\n",
      "Epoch   0 Batch  400/1077 - Train Accuracy:  0.678, Validation Accuracy:  0.629, Loss:  0.541\n",
      "Epoch   0 Batch  410/1077 - Train Accuracy:  0.641, Validation Accuracy:  0.649, Loss:  0.539\n",
      "Epoch   0 Batch  420/1077 - Train Accuracy:  0.665, Validation Accuracy:  0.648, Loss:  0.500\n",
      "Epoch   0 Batch  430/1077 - Train Accuracy:  0.641, Validation Accuracy:  0.648, Loss:  0.498\n",
      "Epoch   0 Batch  440/1077 - Train Accuracy:  0.670, Validation Accuracy:  0.651, Loss:  0.517\n",
      "Epoch   0 Batch  450/1077 - Train Accuracy:  0.684, Validation Accuracy:  0.645, Loss:  0.471\n",
      "Epoch   0 Batch  460/1077 - Train Accuracy:  0.687, Validation Accuracy:  0.656, Loss:  0.500\n",
      "Epoch   0 Batch  470/1077 - Train Accuracy:  0.674, Validation Accuracy:  0.671, Loss:  0.477\n",
      "Epoch   0 Batch  480/1077 - Train Accuracy:  0.686, Validation Accuracy:  0.688, Loss:  0.472\n",
      "Epoch   0 Batch  490/1077 - Train Accuracy:  0.705, Validation Accuracy:  0.686, Loss:  0.479\n",
      "Epoch   0 Batch  500/1077 - Train Accuracy:  0.728, Validation Accuracy:  0.695, Loss:  0.445\n",
      "Epoch   0 Batch  510/1077 - Train Accuracy:  0.679, Validation Accuracy:  0.668, Loss:  0.420\n",
      "Epoch   0 Batch  520/1077 - Train Accuracy:  0.733, Validation Accuracy:  0.685, Loss:  0.417\n",
      "Epoch   0 Batch  530/1077 - Train Accuracy:  0.671, Validation Accuracy:  0.706, Loss:  0.436\n",
      "Epoch   0 Batch  540/1077 - Train Accuracy:  0.738, Validation Accuracy:  0.681, Loss:  0.381\n",
      "Epoch   0 Batch  550/1077 - Train Accuracy:  0.704, Validation Accuracy:  0.721, Loss:  0.416\n",
      "Epoch   0 Batch  560/1077 - Train Accuracy:  0.718, Validation Accuracy:  0.717, Loss:  0.399\n",
      "Epoch   0 Batch  570/1077 - Train Accuracy:  0.762, Validation Accuracy:  0.722, Loss:  0.425\n",
      "Epoch   0 Batch  580/1077 - Train Accuracy:  0.762, Validation Accuracy:  0.727, Loss:  0.350\n",
      "Epoch   0 Batch  590/1077 - Train Accuracy:  0.713, Validation Accuracy:  0.675, Loss:  0.404\n",
      "Epoch   0 Batch  600/1077 - Train Accuracy:  0.769, Validation Accuracy:  0.733, Loss:  0.360\n",
      "Epoch   0 Batch  610/1077 - Train Accuracy:  0.709, Validation Accuracy:  0.726, Loss:  0.400\n",
      "Epoch   0 Batch  620/1077 - Train Accuracy:  0.725, Validation Accuracy:  0.719, Loss:  0.383\n",
      "Epoch   0 Batch  630/1077 - Train Accuracy:  0.729, Validation Accuracy:  0.706, Loss:  0.369\n",
      "Epoch   0 Batch  640/1077 - Train Accuracy:  0.727, Validation Accuracy:  0.743, Loss:  0.360\n",
      "Epoch   0 Batch  650/1077 - Train Accuracy:  0.733, Validation Accuracy:  0.737, Loss:  0.363\n",
      "Epoch   0 Batch  660/1077 - Train Accuracy:  0.748, Validation Accuracy:  0.722, Loss:  0.360\n",
      "Epoch   0 Batch  670/1077 - Train Accuracy:  0.756, Validation Accuracy:  0.717, Loss:  0.353\n",
      "Epoch   0 Batch  680/1077 - Train Accuracy:  0.734, Validation Accuracy:  0.755, Loss:  0.326\n",
      "Epoch   0 Batch  690/1077 - Train Accuracy:  0.802, Validation Accuracy:  0.761, Loss:  0.343\n",
      "Epoch   0 Batch  700/1077 - Train Accuracy:  0.759, Validation Accuracy:  0.748, Loss:  0.327\n",
      "Epoch   0 Batch  710/1077 - Train Accuracy:  0.780, Validation Accuracy:  0.770, Loss:  0.335\n",
      "Epoch   0 Batch  720/1077 - Train Accuracy:  0.739, Validation Accuracy:  0.751, Loss:  0.374\n",
      "Epoch   0 Batch  730/1077 - Train Accuracy:  0.794, Validation Accuracy:  0.769, Loss:  0.351\n",
      "Epoch   0 Batch  740/1077 - Train Accuracy:  0.792, Validation Accuracy:  0.773, Loss:  0.310\n",
      "Epoch   0 Batch  750/1077 - Train Accuracy:  0.799, Validation Accuracy:  0.774, Loss:  0.307\n",
      "Epoch   0 Batch  760/1077 - Train Accuracy:  0.800, Validation Accuracy:  0.776, Loss:  0.348\n",
      "Epoch   0 Batch  770/1077 - Train Accuracy:  0.768, Validation Accuracy:  0.776, Loss:  0.312\n",
      "Epoch   0 Batch  780/1077 - Train Accuracy:  0.749, Validation Accuracy:  0.783, Loss:  0.343\n",
      "Epoch   0 Batch  790/1077 - Train Accuracy:  0.728, Validation Accuracy:  0.779, Loss:  0.310\n",
      "Epoch   0 Batch  800/1077 - Train Accuracy:  0.794, Validation Accuracy:  0.771, Loss:  0.313\n",
      "Epoch   0 Batch  810/1077 - Train Accuracy:  0.807, Validation Accuracy:  0.763, Loss:  0.263\n",
      "Epoch   0 Batch  820/1077 - Train Accuracy:  0.766, Validation Accuracy:  0.782, Loss:  0.308\n",
      "Epoch   0 Batch  830/1077 - Train Accuracy:  0.791, Validation Accuracy:  0.797, Loss:  0.298\n",
      "Epoch   0 Batch  840/1077 - Train Accuracy:  0.803, Validation Accuracy:  0.797, Loss:  0.275\n",
      "Epoch   0 Batch  850/1077 - Train Accuracy:  0.781, Validation Accuracy:  0.792, Loss:  0.327\n",
      "Epoch   0 Batch  860/1077 - Train Accuracy:  0.794, Validation Accuracy:  0.815, Loss:  0.286\n",
      "Epoch   0 Batch  870/1077 - Train Accuracy:  0.794, Validation Accuracy:  0.816, Loss:  0.304\n",
      "Epoch   0 Batch  880/1077 - Train Accuracy:  0.836, Validation Accuracy:  0.811, Loss:  0.265\n",
      "Epoch   0 Batch  890/1077 - Train Accuracy:  0.844, Validation Accuracy:  0.807, Loss:  0.266\n",
      "Epoch   0 Batch  900/1077 - Train Accuracy:  0.814, Validation Accuracy:  0.810, Loss:  0.295\n",
      "Epoch   0 Batch  910/1077 - Train Accuracy:  0.831, Validation Accuracy:  0.805, Loss:  0.247\n",
      "Epoch   0 Batch  920/1077 - Train Accuracy:  0.810, Validation Accuracy:  0.804, Loss:  0.266\n",
      "Epoch   0 Batch  930/1077 - Train Accuracy:  0.852, Validation Accuracy:  0.796, Loss:  0.254\n",
      "Epoch   0 Batch  940/1077 - Train Accuracy:  0.811, Validation Accuracy:  0.797, Loss:  0.252\n",
      "Epoch   0 Batch  950/1077 - Train Accuracy:  0.792, Validation Accuracy:  0.803, Loss:  0.241\n",
      "Epoch   0 Batch  960/1077 - Train Accuracy:  0.822, Validation Accuracy:  0.790, Loss:  0.248\n",
      "Epoch   0 Batch  970/1077 - Train Accuracy:  0.843, Validation Accuracy:  0.819, Loss:  0.278\n",
      "Epoch   0 Batch  980/1077 - Train Accuracy:  0.812, Validation Accuracy:  0.806, Loss:  0.244\n",
      "Epoch   0 Batch  990/1077 - Train Accuracy:  0.807, Validation Accuracy:  0.817, Loss:  0.282\n",
      "Epoch   0 Batch 1000/1077 - Train Accuracy:  0.847, Validation Accuracy:  0.816, Loss:  0.240\n",
      "Epoch   0 Batch 1010/1077 - Train Accuracy:  0.854, Validation Accuracy:  0.817, Loss:  0.247\n",
      "Epoch   0 Batch 1020/1077 - Train Accuracy:  0.853, Validation Accuracy:  0.804, Loss:  0.242\n",
      "Epoch   0 Batch 1030/1077 - Train Accuracy:  0.828, Validation Accuracy:  0.832, Loss:  0.269\n",
      "Epoch   0 Batch 1040/1077 - Train Accuracy:  0.816, Validation Accuracy:  0.787, Loss:  0.251\n",
      "Epoch   0 Batch 1050/1077 - Train Accuracy:  0.809, Validation Accuracy:  0.818, Loss:  0.237\n",
      "Epoch   0 Batch 1060/1077 - Train Accuracy:  0.823, Validation Accuracy:  0.831, Loss:  0.231\n",
      "Epoch   0 Batch 1070/1077 - Train Accuracy:  0.796, Validation Accuracy:  0.805, Loss:  0.220\n",
      "Epoch   1 Batch    0/1077 - Train Accuracy:  0.870, Validation Accuracy:  0.832, Loss:  0.214\n",
      "Epoch   1 Batch   10/1077 - Train Accuracy:  0.859, Validation Accuracy:  0.836, Loss:  0.233\n",
      "Epoch   1 Batch   20/1077 - Train Accuracy:  0.852, Validation Accuracy:  0.862, Loss:  0.200\n",
      "Epoch   1 Batch   30/1077 - Train Accuracy:  0.866, Validation Accuracy:  0.811, Loss:  0.212\n",
      "Epoch   1 Batch   40/1077 - Train Accuracy:  0.837, Validation Accuracy:  0.834, Loss:  0.219\n",
      "Epoch   1 Batch   50/1077 - Train Accuracy:  0.841, Validation Accuracy:  0.819, Loss:  0.205\n",
      "Epoch   1 Batch   60/1077 - Train Accuracy:  0.855, Validation Accuracy:  0.811, Loss:  0.194\n",
      "Epoch   1 Batch   70/1077 - Train Accuracy:  0.856, Validation Accuracy:  0.842, Loss:  0.226\n",
      "Epoch   1 Batch   80/1077 - Train Accuracy:  0.870, Validation Accuracy:  0.845, Loss:  0.213\n",
      "Epoch   1 Batch   90/1077 - Train Accuracy:  0.823, Validation Accuracy:  0.835, Loss:  0.226\n",
      "Epoch   1 Batch  100/1077 - Train Accuracy:  0.855, Validation Accuracy:  0.846, Loss:  0.209\n",
      "Epoch   1 Batch  110/1077 - Train Accuracy:  0.852, Validation Accuracy:  0.831, Loss:  0.195\n",
      "Epoch   1 Batch  120/1077 - Train Accuracy:  0.843, Validation Accuracy:  0.846, Loss:  0.227\n",
      "Epoch   1 Batch  130/1077 - Train Accuracy:  0.865, Validation Accuracy:  0.842, Loss:  0.185\n",
      "Epoch   1 Batch  140/1077 - Train Accuracy:  0.877, Validation Accuracy:  0.839, Loss:  0.209\n",
      "Epoch   1 Batch  150/1077 - Train Accuracy:  0.854, Validation Accuracy:  0.839, Loss:  0.196\n",
      "Epoch   1 Batch  160/1077 - Train Accuracy:  0.879, Validation Accuracy:  0.831, Loss:  0.187\n",
      "Epoch   1 Batch  170/1077 - Train Accuracy:  0.835, Validation Accuracy:  0.822, Loss:  0.226\n",
      "Epoch   1 Batch  180/1077 - Train Accuracy:  0.832, Validation Accuracy:  0.817, Loss:  0.212\n",
      "Epoch   1 Batch  190/1077 - Train Accuracy:  0.874, Validation Accuracy:  0.806, Loss:  0.204\n",
      "Epoch   1 Batch  200/1077 - Train Accuracy:  0.828, Validation Accuracy:  0.826, Loss:  0.220\n",
      "Epoch   1 Batch  210/1077 - Train Accuracy:  0.865, Validation Accuracy:  0.833, Loss:  0.221\n",
      "Epoch   1 Batch  220/1077 - Train Accuracy:  0.878, Validation Accuracy:  0.844, Loss:  0.190\n",
      "Epoch   1 Batch  230/1077 - Train Accuracy:  0.849, Validation Accuracy:  0.814, Loss:  0.190\n",
      "Epoch   1 Batch  240/1077 - Train Accuracy:  0.866, Validation Accuracy:  0.857, Loss:  0.187\n",
      "Epoch   1 Batch  250/1077 - Train Accuracy:  0.853, Validation Accuracy:  0.840, Loss:  0.161\n",
      "Epoch   1 Batch  260/1077 - Train Accuracy:  0.865, Validation Accuracy:  0.848, Loss:  0.183\n",
      "Epoch   1 Batch  270/1077 - Train Accuracy:  0.815, Validation Accuracy:  0.822, Loss:  0.224\n",
      "Epoch   1 Batch  280/1077 - Train Accuracy:  0.849, Validation Accuracy:  0.817, Loss:  0.211\n",
      "Epoch   1 Batch  290/1077 - Train Accuracy:  0.842, Validation Accuracy:  0.829, Loss:  0.251\n",
      "Epoch   1 Batch  300/1077 - Train Accuracy:  0.878, Validation Accuracy:  0.824, Loss:  0.198\n",
      "Epoch   1 Batch  310/1077 - Train Accuracy:  0.848, Validation Accuracy:  0.816, Loss:  0.217\n",
      "Epoch   1 Batch  320/1077 - Train Accuracy:  0.862, Validation Accuracy:  0.830, Loss:  0.216\n",
      "Epoch   1 Batch  330/1077 - Train Accuracy:  0.874, Validation Accuracy:  0.807, Loss:  0.209\n",
      "Epoch   1 Batch  340/1077 - Train Accuracy:  0.831, Validation Accuracy:  0.814, Loss:  0.206\n",
      "Epoch   1 Batch  350/1077 - Train Accuracy:  0.857, Validation Accuracy:  0.814, Loss:  0.211\n",
      "Epoch   1 Batch  360/1077 - Train Accuracy:  0.844, Validation Accuracy:  0.825, Loss:  0.164\n",
      "Epoch   1 Batch  370/1077 - Train Accuracy:  0.894, Validation Accuracy:  0.826, Loss:  0.191\n",
      "Epoch   1 Batch  380/1077 - Train Accuracy:  0.867, Validation Accuracy:  0.843, Loss:  0.172\n",
      "Epoch   1 Batch  390/1077 - Train Accuracy:  0.819, Validation Accuracy:  0.837, Loss:  0.199\n",
      "Epoch   1 Batch  400/1077 - Train Accuracy:  0.870, Validation Accuracy:  0.819, Loss:  0.185\n",
      "Epoch   1 Batch  410/1077 - Train Accuracy:  0.848, Validation Accuracy:  0.854, Loss:  0.200\n",
      "Epoch   1 Batch  420/1077 - Train Accuracy:  0.882, Validation Accuracy:  0.823, Loss:  0.168\n",
      "Epoch   1 Batch  430/1077 - Train Accuracy:  0.886, Validation Accuracy:  0.818, Loss:  0.171\n",
      "Epoch   1 Batch  440/1077 - Train Accuracy:  0.843, Validation Accuracy:  0.824, Loss:  0.219\n",
      "Epoch   1 Batch  450/1077 - Train Accuracy:  0.827, Validation Accuracy:  0.806, Loss:  0.193\n",
      "Epoch   1 Batch  460/1077 - Train Accuracy:  0.854, Validation Accuracy:  0.838, Loss:  0.211\n",
      "Epoch   1 Batch  470/1077 - Train Accuracy:  0.856, Validation Accuracy:  0.809, Loss:  0.197\n",
      "Epoch   1 Batch  480/1077 - Train Accuracy:  0.879, Validation Accuracy:  0.835, Loss:  0.187\n",
      "Epoch   1 Batch  490/1077 - Train Accuracy:  0.855, Validation Accuracy:  0.826, Loss:  0.191\n",
      "Epoch   1 Batch  500/1077 - Train Accuracy:  0.874, Validation Accuracy:  0.858, Loss:  0.173\n",
      "Epoch   1 Batch  510/1077 - Train Accuracy:  0.830, Validation Accuracy:  0.797, Loss:  0.191\n",
      "Epoch   1 Batch  520/1077 - Train Accuracy:  0.880, Validation Accuracy:  0.823, Loss:  0.192\n",
      "Epoch   1 Batch  530/1077 - Train Accuracy:  0.845, Validation Accuracy:  0.820, Loss:  0.173\n",
      "Epoch   1 Batch  540/1077 - Train Accuracy:  0.877, Validation Accuracy:  0.822, Loss:  0.171\n",
      "Epoch   1 Batch  550/1077 - Train Accuracy:  0.841, Validation Accuracy:  0.839, Loss:  0.191\n",
      "Epoch   1 Batch  560/1077 - Train Accuracy:  0.876, Validation Accuracy:  0.822, Loss:  0.186\n",
      "Epoch   1 Batch  570/1077 - Train Accuracy:  0.843, Validation Accuracy:  0.822, Loss:  0.200\n",
      "Epoch   1 Batch  580/1077 - Train Accuracy:  0.875, Validation Accuracy:  0.820, Loss:  0.154\n",
      "Epoch   1 Batch  590/1077 - Train Accuracy:  0.840, Validation Accuracy:  0.812, Loss:  0.212\n",
      "Epoch   1 Batch  600/1077 - Train Accuracy:  0.855, Validation Accuracy:  0.828, Loss:  0.196\n",
      "Epoch   1 Batch  610/1077 - Train Accuracy:  0.867, Validation Accuracy:  0.833, Loss:  0.212\n",
      "Epoch   1 Batch  620/1077 - Train Accuracy:  0.867, Validation Accuracy:  0.849, Loss:  0.171\n",
      "Epoch   1 Batch  630/1077 - Train Accuracy:  0.886, Validation Accuracy:  0.851, Loss:  0.185\n",
      "Epoch   1 Batch  640/1077 - Train Accuracy:  0.833, Validation Accuracy:  0.829, Loss:  0.166\n",
      "Epoch   1 Batch  650/1077 - Train Accuracy:  0.866, Validation Accuracy:  0.859, Loss:  0.189\n",
      "Epoch   1 Batch  660/1077 - Train Accuracy:  0.846, Validation Accuracy:  0.806, Loss:  0.186\n",
      "Epoch   1 Batch  670/1077 - Train Accuracy:  0.855, Validation Accuracy:  0.847, Loss:  0.186\n",
      "Epoch   1 Batch  680/1077 - Train Accuracy:  0.836, Validation Accuracy:  0.837, Loss:  0.193\n",
      "Epoch   1 Batch  690/1077 - Train Accuracy:  0.855, Validation Accuracy:  0.836, Loss:  0.207\n",
      "Epoch   1 Batch  700/1077 - Train Accuracy:  0.872, Validation Accuracy:  0.835, Loss:  0.163\n",
      "Epoch   1 Batch  710/1077 - Train Accuracy:  0.863, Validation Accuracy:  0.836, Loss:  0.182\n",
      "Epoch   1 Batch  720/1077 - Train Accuracy:  0.848, Validation Accuracy:  0.821, Loss:  0.192\n",
      "Epoch   1 Batch  730/1077 - Train Accuracy:  0.864, Validation Accuracy:  0.827, Loss:  0.185\n",
      "Epoch   1 Batch  740/1077 - Train Accuracy:  0.871, Validation Accuracy:  0.843, Loss:  0.155\n",
      "Epoch   1 Batch  750/1077 - Train Accuracy:  0.880, Validation Accuracy:  0.848, Loss:  0.158\n",
      "Epoch   1 Batch  760/1077 - Train Accuracy:  0.856, Validation Accuracy:  0.815, Loss:  0.202\n",
      "Epoch   1 Batch  770/1077 - Train Accuracy:  0.837, Validation Accuracy:  0.852, Loss:  0.188\n",
      "Epoch   1 Batch  780/1077 - Train Accuracy:  0.816, Validation Accuracy:  0.863, Loss:  0.211\n",
      "Epoch   1 Batch  790/1077 - Train Accuracy:  0.831, Validation Accuracy:  0.840, Loss:  0.175\n",
      "Epoch   1 Batch  800/1077 - Train Accuracy:  0.816, Validation Accuracy:  0.832, Loss:  0.163\n",
      "Epoch   1 Batch  810/1077 - Train Accuracy:  0.852, Validation Accuracy:  0.835, Loss:  0.149\n",
      "Epoch   1 Batch  820/1077 - Train Accuracy:  0.815, Validation Accuracy:  0.841, Loss:  0.169\n",
      "Epoch   1 Batch  830/1077 - Train Accuracy:  0.818, Validation Accuracy:  0.846, Loss:  0.174\n",
      "Epoch   1 Batch  840/1077 - Train Accuracy:  0.864, Validation Accuracy:  0.836, Loss:  0.140\n",
      "Epoch   1 Batch  850/1077 - Train Accuracy:  0.830, Validation Accuracy:  0.836, Loss:  0.183\n",
      "Epoch   1 Batch  860/1077 - Train Accuracy:  0.859, Validation Accuracy:  0.860, Loss:  0.171\n",
      "Epoch   1 Batch  870/1077 - Train Accuracy:  0.844, Validation Accuracy:  0.849, Loss:  0.188\n",
      "Epoch   1 Batch  880/1077 - Train Accuracy:  0.891, Validation Accuracy:  0.863, Loss:  0.172\n",
      "Epoch   1 Batch  890/1077 - Train Accuracy:  0.862, Validation Accuracy:  0.864, Loss:  0.160\n",
      "Epoch   1 Batch  900/1077 - Train Accuracy:  0.875, Validation Accuracy:  0.853, Loss:  0.183\n",
      "Epoch   1 Batch  910/1077 - Train Accuracy:  0.871, Validation Accuracy:  0.849, Loss:  0.161\n",
      "Epoch   1 Batch  920/1077 - Train Accuracy:  0.841, Validation Accuracy:  0.833, Loss:  0.165\n",
      "Epoch   1 Batch  930/1077 - Train Accuracy:  0.892, Validation Accuracy:  0.856, Loss:  0.152\n",
      "Epoch   1 Batch  940/1077 - Train Accuracy:  0.878, Validation Accuracy:  0.818, Loss:  0.148\n",
      "Epoch   1 Batch  950/1077 - Train Accuracy:  0.846, Validation Accuracy:  0.844, Loss:  0.146\n",
      "Epoch   1 Batch  960/1077 - Train Accuracy:  0.879, Validation Accuracy:  0.841, Loss:  0.154\n",
      "Epoch   1 Batch  970/1077 - Train Accuracy:  0.886, Validation Accuracy:  0.860, Loss:  0.176\n",
      "Epoch   1 Batch  980/1077 - Train Accuracy:  0.858, Validation Accuracy:  0.845, Loss:  0.163\n",
      "Epoch   1 Batch  990/1077 - Train Accuracy:  0.855, Validation Accuracy:  0.867, Loss:  0.180\n",
      "Epoch   1 Batch 1000/1077 - Train Accuracy:  0.869, Validation Accuracy:  0.846, Loss:  0.165\n",
      "Epoch   1 Batch 1010/1077 - Train Accuracy:  0.884, Validation Accuracy:  0.823, Loss:  0.149\n",
      "Epoch   1 Batch 1020/1077 - Train Accuracy:  0.859, Validation Accuracy:  0.838, Loss:  0.144\n",
      "Epoch   1 Batch 1030/1077 - Train Accuracy:  0.880, Validation Accuracy:  0.853, Loss:  0.157\n",
      "Epoch   1 Batch 1040/1077 - Train Accuracy:  0.867, Validation Accuracy:  0.824, Loss:  0.194\n",
      "Epoch   1 Batch 1050/1077 - Train Accuracy:  0.870, Validation Accuracy:  0.831, Loss:  0.150\n",
      "Epoch   1 Batch 1060/1077 - Train Accuracy:  0.860, Validation Accuracy:  0.831, Loss:  0.141\n",
      "Epoch   1 Batch 1070/1077 - Train Accuracy:  0.836, Validation Accuracy:  0.846, Loss:  0.147\n",
      "Epoch   2 Batch    0/1077 - Train Accuracy:  0.885, Validation Accuracy:  0.865, Loss:  0.148\n",
      "Epoch   2 Batch   10/1077 - Train Accuracy:  0.885, Validation Accuracy:  0.837, Loss:  0.163\n",
      "Epoch   2 Batch   20/1077 - Train Accuracy:  0.873, Validation Accuracy:  0.860, Loss:  0.134\n",
      "Epoch   2 Batch   30/1077 - Train Accuracy:  0.875, Validation Accuracy:  0.845, Loss:  0.139\n",
      "Epoch   2 Batch   40/1077 - Train Accuracy:  0.881, Validation Accuracy:  0.846, Loss:  0.140\n",
      "Epoch   2 Batch   50/1077 - Train Accuracy:  0.873, Validation Accuracy:  0.844, Loss:  0.133\n",
      "Epoch   2 Batch   60/1077 - Train Accuracy:  0.888, Validation Accuracy:  0.852, Loss:  0.135\n",
      "Epoch   2 Batch   70/1077 - Train Accuracy:  0.867, Validation Accuracy:  0.842, Loss:  0.157\n",
      "Epoch   2 Batch   80/1077 - Train Accuracy:  0.877, Validation Accuracy:  0.851, Loss:  0.132\n",
      "Epoch   2 Batch   90/1077 - Train Accuracy:  0.853, Validation Accuracy:  0.824, Loss:  0.162\n",
      "Epoch   2 Batch  100/1077 - Train Accuracy:  0.885, Validation Accuracy:  0.859, Loss:  0.145\n",
      "Epoch   2 Batch  110/1077 - Train Accuracy:  0.899, Validation Accuracy:  0.838, Loss:  0.136\n",
      "Epoch   2 Batch  120/1077 - Train Accuracy:  0.873, Validation Accuracy:  0.866, Loss:  0.179\n",
      "Epoch   2 Batch  130/1077 - Train Accuracy:  0.878, Validation Accuracy:  0.837, Loss:  0.133\n",
      "Epoch   2 Batch  140/1077 - Train Accuracy:  0.872, Validation Accuracy:  0.853, Loss:  0.158\n",
      "Epoch   2 Batch  150/1077 - Train Accuracy:  0.869, Validation Accuracy:  0.851, Loss:  0.147\n",
      "Epoch   2 Batch  160/1077 - Train Accuracy:  0.885, Validation Accuracy:  0.847, Loss:  0.124\n",
      "Epoch   2 Batch  170/1077 - Train Accuracy:  0.841, Validation Accuracy:  0.841, Loss:  0.150\n",
      "Epoch   2 Batch  180/1077 - Train Accuracy:  0.863, Validation Accuracy:  0.857, Loss:  0.133\n",
      "Epoch   2 Batch  190/1077 - Train Accuracy:  0.911, Validation Accuracy:  0.832, Loss:  0.145\n",
      "Epoch   2 Batch  200/1077 - Train Accuracy:  0.859, Validation Accuracy:  0.831, Loss:  0.172\n",
      "Epoch   2 Batch  210/1077 - Train Accuracy:  0.859, Validation Accuracy:  0.832, Loss:  0.152\n",
      "Epoch   2 Batch  220/1077 - Train Accuracy:  0.882, Validation Accuracy:  0.825, Loss:  0.147\n",
      "Epoch   2 Batch  230/1077 - Train Accuracy:  0.849, Validation Accuracy:  0.836, Loss:  0.173\n",
      "Epoch   2 Batch  240/1077 - Train Accuracy:  0.920, Validation Accuracy:  0.861, Loss:  0.135\n",
      "Epoch   2 Batch  250/1077 - Train Accuracy:  0.867, Validation Accuracy:  0.854, Loss:  0.138\n",
      "Epoch   2 Batch  260/1077 - Train Accuracy:  0.875, Validation Accuracy:  0.843, Loss:  0.150\n",
      "Epoch   2 Batch  270/1077 - Train Accuracy:  0.839, Validation Accuracy:  0.848, Loss:  0.168\n",
      "Epoch   2 Batch  280/1077 - Train Accuracy:  0.857, Validation Accuracy:  0.864, Loss:  0.156\n",
      "Epoch   2 Batch  290/1077 - Train Accuracy:  0.871, Validation Accuracy:  0.863, Loss:  0.195\n",
      "Epoch   2 Batch  300/1077 - Train Accuracy:  0.894, Validation Accuracy:  0.831, Loss:  0.144\n",
      "Epoch   2 Batch  310/1077 - Train Accuracy:  0.876, Validation Accuracy:  0.864, Loss:  0.153\n",
      "Epoch   2 Batch  320/1077 - Train Accuracy:  0.859, Validation Accuracy:  0.828, Loss:  0.168\n",
      "Epoch   2 Batch  330/1077 - Train Accuracy:  0.875, Validation Accuracy:  0.828, Loss:  0.152\n",
      "Epoch   2 Batch  340/1077 - Train Accuracy:  0.893, Validation Accuracy:  0.819, Loss:  0.144\n",
      "Epoch   2 Batch  350/1077 - Train Accuracy:  0.869, Validation Accuracy:  0.839, Loss:  0.164\n",
      "Epoch   2 Batch  360/1077 - Train Accuracy:  0.908, Validation Accuracy:  0.839, Loss:  0.149\n",
      "Epoch   2 Batch  370/1077 - Train Accuracy:  0.900, Validation Accuracy:  0.847, Loss:  0.136\n",
      "Epoch   2 Batch  380/1077 - Train Accuracy:  0.875, Validation Accuracy:  0.857, Loss:  0.142\n",
      "Epoch   2 Batch  390/1077 - Train Accuracy:  0.858, Validation Accuracy:  0.846, Loss:  0.167\n",
      "Epoch   2 Batch  400/1077 - Train Accuracy:  0.878, Validation Accuracy:  0.840, Loss:  0.169\n",
      "Epoch   2 Batch  410/1077 - Train Accuracy:  0.852, Validation Accuracy:  0.855, Loss:  0.184\n",
      "Epoch   2 Batch  420/1077 - Train Accuracy:  0.884, Validation Accuracy:  0.842, Loss:  0.152\n",
      "Epoch   2 Batch  430/1077 - Train Accuracy:  0.865, Validation Accuracy:  0.833, Loss:  0.130\n",
      "Epoch   2 Batch  440/1077 - Train Accuracy:  0.847, Validation Accuracy:  0.827, Loss:  0.160\n",
      "Epoch   2 Batch  450/1077 - Train Accuracy:  0.859, Validation Accuracy:  0.847, Loss:  0.166\n",
      "Epoch   2 Batch  460/1077 - Train Accuracy:  0.877, Validation Accuracy:  0.859, Loss:  0.164\n",
      "Epoch   2 Batch  470/1077 - Train Accuracy:  0.839, Validation Accuracy:  0.844, Loss:  0.172\n",
      "Epoch   2 Batch  480/1077 - Train Accuracy:  0.884, Validation Accuracy:  0.834, Loss:  0.141\n",
      "Epoch   2 Batch  490/1077 - Train Accuracy:  0.862, Validation Accuracy:  0.853, Loss:  0.159\n",
      "Epoch   2 Batch  500/1077 - Train Accuracy:  0.873, Validation Accuracy:  0.840, Loss:  0.121\n",
      "Epoch   2 Batch  510/1077 - Train Accuracy:  0.833, Validation Accuracy:  0.822, Loss:  0.152\n",
      "Epoch   2 Batch  520/1077 - Train Accuracy:  0.896, Validation Accuracy:  0.854, Loss:  0.150\n",
      "Epoch   2 Batch  530/1077 - Train Accuracy:  0.832, Validation Accuracy:  0.844, Loss:  0.164\n",
      "Epoch   2 Batch  540/1077 - Train Accuracy:  0.884, Validation Accuracy:  0.837, Loss:  0.144\n",
      "Epoch   2 Batch  550/1077 - Train Accuracy:  0.830, Validation Accuracy:  0.834, Loss:  0.154\n",
      "Epoch   2 Batch  560/1077 - Train Accuracy:  0.880, Validation Accuracy:  0.843, Loss:  0.163\n",
      "Epoch   2 Batch  570/1077 - Train Accuracy:  0.848, Validation Accuracy:  0.828, Loss:  0.174\n",
      "Epoch   2 Batch  580/1077 - Train Accuracy:  0.870, Validation Accuracy:  0.831, Loss:  0.145\n",
      "Epoch   2 Batch  590/1077 - Train Accuracy:  0.830, Validation Accuracy:  0.833, Loss:  0.176\n",
      "Epoch   2 Batch  600/1077 - Train Accuracy:  0.890, Validation Accuracy:  0.866, Loss:  0.171\n",
      "Epoch   2 Batch  610/1077 - Train Accuracy:  0.889, Validation Accuracy:  0.848, Loss:  0.160\n",
      "Epoch   2 Batch  620/1077 - Train Accuracy:  0.879, Validation Accuracy:  0.867, Loss:  0.164\n",
      "Epoch   2 Batch  630/1077 - Train Accuracy:  0.895, Validation Accuracy:  0.858, Loss:  0.150\n",
      "Epoch   2 Batch  640/1077 - Train Accuracy:  0.844, Validation Accuracy:  0.848, Loss:  0.150\n",
      "Epoch   2 Batch  650/1077 - Train Accuracy:  0.880, Validation Accuracy:  0.871, Loss:  0.154\n",
      "Epoch   2 Batch  660/1077 - Train Accuracy:  0.877, Validation Accuracy:  0.830, Loss:  0.146\n",
      "Epoch   2 Batch  670/1077 - Train Accuracy:  0.858, Validation Accuracy:  0.848, Loss:  0.161\n",
      "Epoch   2 Batch  680/1077 - Train Accuracy:  0.863, Validation Accuracy:  0.863, Loss:  0.155\n",
      "Epoch   2 Batch  690/1077 - Train Accuracy:  0.865, Validation Accuracy:  0.854, Loss:  0.149\n",
      "Epoch   2 Batch  700/1077 - Train Accuracy:  0.884, Validation Accuracy:  0.830, Loss:  0.147\n",
      "Epoch   2 Batch  710/1077 - Train Accuracy:  0.854, Validation Accuracy:  0.857, Loss:  0.149\n",
      "Epoch   2 Batch  720/1077 - Train Accuracy:  0.829, Validation Accuracy:  0.859, Loss:  0.165\n",
      "Epoch   2 Batch  730/1077 - Train Accuracy:  0.865, Validation Accuracy:  0.827, Loss:  0.176\n",
      "Epoch   2 Batch  740/1077 - Train Accuracy:  0.892, Validation Accuracy:  0.853, Loss:  0.144\n",
      "Epoch   2 Batch  750/1077 - Train Accuracy:  0.890, Validation Accuracy:  0.865, Loss:  0.137\n",
      "Epoch   2 Batch  760/1077 - Train Accuracy:  0.878, Validation Accuracy:  0.872, Loss:  0.166\n",
      "Epoch   2 Batch  770/1077 - Train Accuracy:  0.849, Validation Accuracy:  0.853, Loss:  0.155\n",
      "Epoch   2 Batch  780/1077 - Train Accuracy:  0.829, Validation Accuracy:  0.865, Loss:  0.191\n",
      "Epoch   2 Batch  790/1077 - Train Accuracy:  0.817, Validation Accuracy:  0.878, Loss:  0.161\n",
      "Epoch   2 Batch  800/1077 - Train Accuracy:  0.832, Validation Accuracy:  0.857, Loss:  0.145\n",
      "Epoch   2 Batch  810/1077 - Train Accuracy:  0.871, Validation Accuracy:  0.836, Loss:  0.133\n",
      "Epoch   2 Batch  820/1077 - Train Accuracy:  0.824, Validation Accuracy:  0.865, Loss:  0.154\n",
      "Epoch   2 Batch  830/1077 - Train Accuracy:  0.849, Validation Accuracy:  0.844, Loss:  0.160\n",
      "Epoch   2 Batch  840/1077 - Train Accuracy:  0.874, Validation Accuracy:  0.863, Loss:  0.124\n",
      "Epoch   2 Batch  850/1077 - Train Accuracy:  0.832, Validation Accuracy:  0.852, Loss:  0.175\n",
      "Epoch   2 Batch  860/1077 - Train Accuracy:  0.850, Validation Accuracy:  0.870, Loss:  0.146\n",
      "Epoch   2 Batch  870/1077 - Train Accuracy:  0.846, Validation Accuracy:  0.864, Loss:  0.144\n",
      "Epoch   2 Batch  880/1077 - Train Accuracy:  0.886, Validation Accuracy:  0.870, Loss:  0.146\n",
      "Epoch   2 Batch  890/1077 - Train Accuracy:  0.897, Validation Accuracy:  0.872, Loss:  0.134\n",
      "Epoch   2 Batch  900/1077 - Train Accuracy:  0.901, Validation Accuracy:  0.862, Loss:  0.174\n",
      "Epoch   2 Batch  910/1077 - Train Accuracy:  0.874, Validation Accuracy:  0.854, Loss:  0.153\n",
      "Epoch   2 Batch  920/1077 - Train Accuracy:  0.877, Validation Accuracy:  0.852, Loss:  0.137\n",
      "Epoch   2 Batch  930/1077 - Train Accuracy:  0.870, Validation Accuracy:  0.841, Loss:  0.129\n",
      "Epoch   2 Batch  940/1077 - Train Accuracy:  0.848, Validation Accuracy:  0.828, Loss:  0.131\n",
      "Epoch   2 Batch  950/1077 - Train Accuracy:  0.858, Validation Accuracy:  0.854, Loss:  0.135\n",
      "Epoch   2 Batch  960/1077 - Train Accuracy:  0.887, Validation Accuracy:  0.859, Loss:  0.149\n",
      "Epoch   2 Batch  970/1077 - Train Accuracy:  0.883, Validation Accuracy:  0.845, Loss:  0.165\n",
      "Epoch   2 Batch  980/1077 - Train Accuracy:  0.879, Validation Accuracy:  0.838, Loss:  0.141\n",
      "Epoch   2 Batch  990/1077 - Train Accuracy:  0.871, Validation Accuracy:  0.875, Loss:  0.150\n",
      "Epoch   2 Batch 1000/1077 - Train Accuracy:  0.901, Validation Accuracy:  0.868, Loss:  0.138\n",
      "Epoch   2 Batch 1010/1077 - Train Accuracy:  0.898, Validation Accuracy:  0.842, Loss:  0.141\n",
      "Epoch   2 Batch 1020/1077 - Train Accuracy:  0.880, Validation Accuracy:  0.843, Loss:  0.137\n",
      "Epoch   2 Batch 1030/1077 - Train Accuracy:  0.877, Validation Accuracy:  0.875, Loss:  0.152\n",
      "Epoch   2 Batch 1040/1077 - Train Accuracy:  0.867, Validation Accuracy:  0.857, Loss:  0.167\n",
      "Epoch   2 Batch 1050/1077 - Train Accuracy:  0.884, Validation Accuracy:  0.876, Loss:  0.131\n",
      "Epoch   2 Batch 1060/1077 - Train Accuracy:  0.875, Validation Accuracy:  0.868, Loss:  0.139\n",
      "Epoch   2 Batch 1070/1077 - Train Accuracy:  0.868, Validation Accuracy:  0.849, Loss:  0.132\n",
      "Epoch   3 Batch    0/1077 - Train Accuracy:  0.918, Validation Accuracy:  0.863, Loss:  0.127\n",
      "Epoch   3 Batch   10/1077 - Train Accuracy:  0.866, Validation Accuracy:  0.859, Loss:  0.149\n",
      "Epoch   3 Batch   20/1077 - Train Accuracy:  0.880, Validation Accuracy:  0.875, Loss:  0.124\n",
      "Epoch   3 Batch   30/1077 - Train Accuracy:  0.901, Validation Accuracy:  0.848, Loss:  0.135\n",
      "Epoch   3 Batch   40/1077 - Train Accuracy:  0.873, Validation Accuracy:  0.854, Loss:  0.148\n",
      "Epoch   3 Batch   50/1077 - Train Accuracy:  0.890, Validation Accuracy:  0.852, Loss:  0.128\n",
      "Epoch   3 Batch   60/1077 - Train Accuracy:  0.894, Validation Accuracy:  0.863, Loss:  0.124\n",
      "Epoch   3 Batch   70/1077 - Train Accuracy:  0.898, Validation Accuracy:  0.888, Loss:  0.153\n",
      "Epoch   3 Batch   80/1077 - Train Accuracy:  0.899, Validation Accuracy:  0.855, Loss:  0.134\n",
      "Epoch   3 Batch   90/1077 - Train Accuracy:  0.850, Validation Accuracy:  0.872, Loss:  0.157\n",
      "Epoch   3 Batch  100/1077 - Train Accuracy:  0.876, Validation Accuracy:  0.849, Loss:  0.141\n",
      "Epoch   3 Batch  110/1077 - Train Accuracy:  0.906, Validation Accuracy:  0.841, Loss:  0.118\n",
      "Epoch   3 Batch  120/1077 - Train Accuracy:  0.855, Validation Accuracy:  0.859, Loss:  0.192\n",
      "Epoch   3 Batch  130/1077 - Train Accuracy:  0.878, Validation Accuracy:  0.866, Loss:  0.125\n",
      "Epoch   3 Batch  140/1077 - Train Accuracy:  0.866, Validation Accuracy:  0.871, Loss:  0.132\n",
      "Epoch   3 Batch  150/1077 - Train Accuracy:  0.882, Validation Accuracy:  0.876, Loss:  0.155\n",
      "Epoch   3 Batch  160/1077 - Train Accuracy:  0.907, Validation Accuracy:  0.868, Loss:  0.120\n",
      "Epoch   3 Batch  170/1077 - Train Accuracy:  0.852, Validation Accuracy:  0.860, Loss:  0.196\n",
      "Epoch   3 Batch  180/1077 - Train Accuracy:  0.856, Validation Accuracy:  0.886, Loss:  0.132\n",
      "Epoch   3 Batch  190/1077 - Train Accuracy:  0.902, Validation Accuracy:  0.842, Loss:  0.154\n",
      "Epoch   3 Batch  200/1077 - Train Accuracy:  0.838, Validation Accuracy:  0.859, Loss:  0.163\n",
      "Epoch   3 Batch  210/1077 - Train Accuracy:  0.865, Validation Accuracy:  0.853, Loss:  0.161\n",
      "Epoch   3 Batch  220/1077 - Train Accuracy:  0.882, Validation Accuracy:  0.874, Loss:  0.131\n",
      "Epoch   3 Batch  230/1077 - Train Accuracy:  0.879, Validation Accuracy:  0.847, Loss:  0.152\n",
      "Epoch   3 Batch  240/1077 - Train Accuracy:  0.898, Validation Accuracy:  0.840, Loss:  0.135\n",
      "Epoch   3 Batch  250/1077 - Train Accuracy:  0.856, Validation Accuracy:  0.859, Loss:  0.125\n",
      "Epoch   3 Batch  260/1077 - Train Accuracy:  0.890, Validation Accuracy:  0.858, Loss:  0.135\n",
      "Epoch   3 Batch  270/1077 - Train Accuracy:  0.839, Validation Accuracy:  0.869, Loss:  0.177\n",
      "Epoch   3 Batch  280/1077 - Train Accuracy:  0.857, Validation Accuracy:  0.845, Loss:  0.161\n",
      "Epoch   3 Batch  290/1077 - Train Accuracy:  0.844, Validation Accuracy:  0.837, Loss:  0.173\n",
      "Epoch   3 Batch  300/1077 - Train Accuracy:  0.879, Validation Accuracy:  0.859, Loss:  0.147\n",
      "Epoch   3 Batch  310/1077 - Train Accuracy:  0.866, Validation Accuracy:  0.849, Loss:  0.150\n",
      "Epoch   3 Batch  320/1077 - Train Accuracy:  0.852, Validation Accuracy:  0.848, Loss:  0.180\n",
      "Epoch   3 Batch  330/1077 - Train Accuracy:  0.891, Validation Accuracy:  0.840, Loss:  0.184\n",
      "Epoch   3 Batch  340/1077 - Train Accuracy:  0.875, Validation Accuracy:  0.842, Loss:  0.169\n",
      "Epoch   3 Batch  350/1077 - Train Accuracy:  0.848, Validation Accuracy:  0.829, Loss:  0.199\n",
      "Epoch   3 Batch  360/1077 - Train Accuracy:  0.899, Validation Accuracy:  0.841, Loss:  0.145\n",
      "Epoch   3 Batch  370/1077 - Train Accuracy:  0.903, Validation Accuracy:  0.842, Loss:  0.149\n",
      "Epoch   3 Batch  380/1077 - Train Accuracy:  0.875, Validation Accuracy:  0.842, Loss:  0.142\n",
      "Epoch   3 Batch  390/1077 - Train Accuracy:  0.829, Validation Accuracy:  0.852, Loss:  0.172\n",
      "Epoch   3 Batch  400/1077 - Train Accuracy:  0.885, Validation Accuracy:  0.840, Loss:  0.158\n",
      "Epoch   3 Batch  410/1077 - Train Accuracy:  0.850, Validation Accuracy:  0.839, Loss:  0.165\n",
      "Epoch   3 Batch  420/1077 - Train Accuracy:  0.910, Validation Accuracy:  0.863, Loss:  0.147\n",
      "Epoch   3 Batch  430/1077 - Train Accuracy:  0.873, Validation Accuracy:  0.834, Loss:  0.129\n",
      "Epoch   3 Batch  440/1077 - Train Accuracy:  0.843, Validation Accuracy:  0.859, Loss:  0.186\n",
      "Epoch   3 Batch  450/1077 - Train Accuracy:  0.850, Validation Accuracy:  0.840, Loss:  0.166\n",
      "Epoch   3 Batch  460/1077 - Train Accuracy:  0.874, Validation Accuracy:  0.853, Loss:  0.185\n",
      "Epoch   3 Batch  470/1077 - Train Accuracy:  0.864, Validation Accuracy:  0.865, Loss:  0.173\n",
      "Epoch   3 Batch  480/1077 - Train Accuracy:  0.894, Validation Accuracy:  0.846, Loss:  0.169\n",
      "Epoch   3 Batch  490/1077 - Train Accuracy:  0.866, Validation Accuracy:  0.825, Loss:  0.161\n",
      "Epoch   3 Batch  500/1077 - Train Accuracy:  0.886, Validation Accuracy:  0.836, Loss:  0.133\n",
      "Epoch   3 Batch  510/1077 - Train Accuracy:  0.836, Validation Accuracy:  0.840, Loss:  0.164\n",
      "Epoch   3 Batch  520/1077 - Train Accuracy:  0.890, Validation Accuracy:  0.832, Loss:  0.163\n",
      "Epoch   3 Batch  530/1077 - Train Accuracy:  0.845, Validation Accuracy:  0.849, Loss:  0.152\n",
      "Epoch   3 Batch  540/1077 - Train Accuracy:  0.892, Validation Accuracy:  0.827, Loss:  0.149\n",
      "Epoch   3 Batch  550/1077 - Train Accuracy:  0.842, Validation Accuracy:  0.856, Loss:  0.138\n",
      "Epoch   3 Batch  560/1077 - Train Accuracy:  0.873, Validation Accuracy:  0.849, Loss:  0.149\n",
      "Epoch   3 Batch  570/1077 - Train Accuracy:  0.830, Validation Accuracy:  0.849, Loss:  0.190\n",
      "Epoch   3 Batch  580/1077 - Train Accuracy:  0.877, Validation Accuracy:  0.850, Loss:  0.137\n",
      "Epoch   3 Batch  590/1077 - Train Accuracy:  0.849, Validation Accuracy:  0.857, Loss:  0.172\n",
      "Epoch   3 Batch  600/1077 - Train Accuracy:  0.872, Validation Accuracy:  0.852, Loss:  0.167\n",
      "Epoch   3 Batch  610/1077 - Train Accuracy:  0.841, Validation Accuracy:  0.848, Loss:  0.151\n",
      "Epoch   3 Batch  620/1077 - Train Accuracy:  0.860, Validation Accuracy:  0.854, Loss:  0.148\n",
      "Epoch   3 Batch  630/1077 - Train Accuracy:  0.899, Validation Accuracy:  0.847, Loss:  0.144\n",
      "Epoch   3 Batch  640/1077 - Train Accuracy:  0.836, Validation Accuracy:  0.860, Loss:  0.139\n",
      "Epoch   3 Batch  650/1077 - Train Accuracy:  0.885, Validation Accuracy:  0.845, Loss:  0.151\n",
      "Epoch   3 Batch  660/1077 - Train Accuracy:  0.865, Validation Accuracy:  0.836, Loss:  0.142\n",
      "Epoch   3 Batch  670/1077 - Train Accuracy:  0.860, Validation Accuracy:  0.841, Loss:  0.139\n",
      "Epoch   3 Batch  680/1077 - Train Accuracy:  0.855, Validation Accuracy:  0.853, Loss:  0.149\n",
      "Epoch   3 Batch  690/1077 - Train Accuracy:  0.893, Validation Accuracy:  0.847, Loss:  0.146\n",
      "Epoch   3 Batch  700/1077 - Train Accuracy:  0.861, Validation Accuracy:  0.860, Loss:  0.157\n",
      "Epoch   3 Batch  710/1077 - Train Accuracy:  0.861, Validation Accuracy:  0.866, Loss:  0.132\n",
      "Epoch   3 Batch  720/1077 - Train Accuracy:  0.845, Validation Accuracy:  0.844, Loss:  0.174\n",
      "Epoch   3 Batch  730/1077 - Train Accuracy:  0.864, Validation Accuracy:  0.851, Loss:  0.166\n",
      "Epoch   3 Batch  740/1077 - Train Accuracy:  0.891, Validation Accuracy:  0.856, Loss:  0.112\n",
      "Epoch   3 Batch  750/1077 - Train Accuracy:  0.881, Validation Accuracy:  0.869, Loss:  0.135\n",
      "Epoch   3 Batch  760/1077 - Train Accuracy:  0.875, Validation Accuracy:  0.872, Loss:  0.161\n",
      "Epoch   3 Batch  770/1077 - Train Accuracy:  0.860, Validation Accuracy:  0.850, Loss:  0.155\n",
      "Epoch   3 Batch  780/1077 - Train Accuracy:  0.834, Validation Accuracy:  0.853, Loss:  0.180\n",
      "Epoch   3 Batch  790/1077 - Train Accuracy:  0.809, Validation Accuracy:  0.846, Loss:  0.138\n",
      "Epoch   3 Batch  800/1077 - Train Accuracy:  0.839, Validation Accuracy:  0.849, Loss:  0.149\n",
      "Epoch   3 Batch  810/1077 - Train Accuracy:  0.873, Validation Accuracy:  0.831, Loss:  0.127\n",
      "Epoch   3 Batch  820/1077 - Train Accuracy:  0.815, Validation Accuracy:  0.823, Loss:  0.150\n",
      "Epoch   3 Batch  830/1077 - Train Accuracy:  0.835, Validation Accuracy:  0.861, Loss:  0.156\n",
      "Epoch   3 Batch  840/1077 - Train Accuracy:  0.893, Validation Accuracy:  0.881, Loss:  0.151\n",
      "Epoch   3 Batch  850/1077 - Train Accuracy:  0.835, Validation Accuracy:  0.849, Loss:  0.190\n",
      "Epoch   3 Batch  860/1077 - Train Accuracy:  0.866, Validation Accuracy:  0.837, Loss:  0.144\n",
      "Epoch   3 Batch  870/1077 - Train Accuracy:  0.824, Validation Accuracy:  0.843, Loss:  0.177\n",
      "Epoch   3 Batch  880/1077 - Train Accuracy:  0.877, Validation Accuracy:  0.848, Loss:  0.152\n",
      "Epoch   3 Batch  890/1077 - Train Accuracy:  0.882, Validation Accuracy:  0.837, Loss:  0.140\n",
      "Epoch   3 Batch  900/1077 - Train Accuracy:  0.881, Validation Accuracy:  0.835, Loss:  0.157\n",
      "Epoch   3 Batch  910/1077 - Train Accuracy:  0.899, Validation Accuracy:  0.850, Loss:  0.131\n",
      "Epoch   3 Batch  920/1077 - Train Accuracy:  0.859, Validation Accuracy:  0.858, Loss:  0.152\n",
      "Epoch   3 Batch  930/1077 - Train Accuracy:  0.887, Validation Accuracy:  0.839, Loss:  0.161\n",
      "Epoch   3 Batch  940/1077 - Train Accuracy:  0.839, Validation Accuracy:  0.843, Loss:  0.165\n",
      "Epoch   3 Batch  950/1077 - Train Accuracy:  0.839, Validation Accuracy:  0.858, Loss:  0.142\n",
      "Epoch   3 Batch  960/1077 - Train Accuracy:  0.870, Validation Accuracy:  0.847, Loss:  0.143\n",
      "Epoch   3 Batch  970/1077 - Train Accuracy:  0.878, Validation Accuracy:  0.863, Loss:  0.178\n",
      "Epoch   3 Batch  980/1077 - Train Accuracy:  0.861, Validation Accuracy:  0.848, Loss:  0.166\n",
      "Epoch   3 Batch  990/1077 - Train Accuracy:  0.858, Validation Accuracy:  0.841, Loss:  0.181\n",
      "Epoch   3 Batch 1000/1077 - Train Accuracy:  0.879, Validation Accuracy:  0.856, Loss:  0.144\n",
      "Epoch   3 Batch 1010/1077 - Train Accuracy:  0.878, Validation Accuracy:  0.846, Loss:  0.141\n",
      "Epoch   3 Batch 1020/1077 - Train Accuracy:  0.868, Validation Accuracy:  0.867, Loss:  0.140\n",
      "Epoch   3 Batch 1030/1077 - Train Accuracy:  0.882, Validation Accuracy:  0.849, Loss:  0.170\n",
      "Epoch   3 Batch 1040/1077 - Train Accuracy:  0.870, Validation Accuracy:  0.828, Loss:  0.182\n",
      "Epoch   3 Batch 1050/1077 - Train Accuracy:  0.868, Validation Accuracy:  0.883, Loss:  0.127\n",
      "Epoch   3 Batch 1060/1077 - Train Accuracy:  0.869, Validation Accuracy:  0.854, Loss:  0.135\n",
      "Epoch   3 Batch 1070/1077 - Train Accuracy:  0.864, Validation Accuracy:  0.860, Loss:  0.136\n",
      "Epoch   4 Batch    0/1077 - Train Accuracy:  0.879, Validation Accuracy:  0.864, Loss:  0.132\n",
      "Epoch   4 Batch   10/1077 - Train Accuracy:  0.880, Validation Accuracy:  0.864, Loss:  0.145\n",
      "Epoch   4 Batch   20/1077 - Train Accuracy:  0.886, Validation Accuracy:  0.879, Loss:  0.109\n",
      "Epoch   4 Batch   30/1077 - Train Accuracy:  0.871, Validation Accuracy:  0.855, Loss:  0.125\n",
      "Epoch   4 Batch   40/1077 - Train Accuracy:  0.868, Validation Accuracy:  0.844, Loss:  0.158\n",
      "Epoch   4 Batch   50/1077 - Train Accuracy:  0.874, Validation Accuracy:  0.857, Loss:  0.125\n",
      "Epoch   4 Batch   60/1077 - Train Accuracy:  0.873, Validation Accuracy:  0.847, Loss:  0.109\n",
      "Epoch   4 Batch   70/1077 - Train Accuracy:  0.857, Validation Accuracy:  0.869, Loss:  0.147\n",
      "Epoch   4 Batch   80/1077 - Train Accuracy:  0.874, Validation Accuracy:  0.865, Loss:  0.124\n",
      "Epoch   4 Batch   90/1077 - Train Accuracy:  0.852, Validation Accuracy:  0.848, Loss:  0.145\n",
      "Epoch   4 Batch  100/1077 - Train Accuracy:  0.869, Validation Accuracy:  0.853, Loss:  0.129\n",
      "Epoch   4 Batch  110/1077 - Train Accuracy:  0.892, Validation Accuracy:  0.865, Loss:  0.120\n",
      "Epoch   4 Batch  120/1077 - Train Accuracy:  0.865, Validation Accuracy:  0.875, Loss:  0.158\n",
      "Epoch   4 Batch  130/1077 - Train Accuracy:  0.883, Validation Accuracy:  0.825, Loss:  0.110\n",
      "Epoch   4 Batch  140/1077 - Train Accuracy:  0.867, Validation Accuracy:  0.857, Loss:  0.163\n",
      "Epoch   4 Batch  150/1077 - Train Accuracy:  0.876, Validation Accuracy:  0.862, Loss:  0.127\n",
      "Epoch   4 Batch  160/1077 - Train Accuracy:  0.885, Validation Accuracy:  0.855, Loss:  0.134\n",
      "Epoch   4 Batch  170/1077 - Train Accuracy:  0.828, Validation Accuracy:  0.858, Loss:  0.145\n",
      "Epoch   4 Batch  180/1077 - Train Accuracy:  0.870, Validation Accuracy:  0.841, Loss:  0.118\n",
      "Epoch   4 Batch  190/1077 - Train Accuracy:  0.887, Validation Accuracy:  0.852, Loss:  0.155\n",
      "Epoch   4 Batch  200/1077 - Train Accuracy:  0.850, Validation Accuracy:  0.840, Loss:  0.147\n",
      "Epoch   4 Batch  210/1077 - Train Accuracy:  0.855, Validation Accuracy:  0.843, Loss:  0.172\n",
      "Epoch   4 Batch  220/1077 - Train Accuracy:  0.885, Validation Accuracy:  0.850, Loss:  0.138\n",
      "Epoch   4 Batch  230/1077 - Train Accuracy:  0.880, Validation Accuracy:  0.838, Loss:  0.162\n",
      "Epoch   4 Batch  240/1077 - Train Accuracy:  0.912, Validation Accuracy:  0.834, Loss:  0.134\n",
      "Epoch   4 Batch  250/1077 - Train Accuracy:  0.865, Validation Accuracy:  0.854, Loss:  0.134\n",
      "Epoch   4 Batch  260/1077 - Train Accuracy:  0.897, Validation Accuracy:  0.843, Loss:  0.138\n",
      "Epoch   4 Batch  270/1077 - Train Accuracy:  0.840, Validation Accuracy:  0.878, Loss:  0.162\n",
      "Epoch   4 Batch  280/1077 - Train Accuracy:  0.889, Validation Accuracy:  0.857, Loss:  0.168\n",
      "Epoch   4 Batch  290/1077 - Train Accuracy:  0.866, Validation Accuracy:  0.866, Loss:  0.178\n",
      "Epoch   4 Batch  300/1077 - Train Accuracy:  0.896, Validation Accuracy:  0.868, Loss:  0.160\n"
     ]
    }
   ],
   "source": [
    "\"\"\"\n",
    "DON'T MODIFY ANYTHING IN THIS CELL\n",
    "\"\"\"\n",
    "import time\n",
    "\n",
    "def get_accuracy(target, logits):\n",
    "    \"\"\"\n",
    "    Calculate accuracy\n",
    "    \"\"\"\n",
    "    max_seq = max(target.shape[1], logits.shape[1])\n",
    "    if max_seq - target.shape[1]:\n",
    "        target = np.pad(\n",
    "            target,\n",
    "            [(0,0),(0,max_seq - target.shape[1])],\n",
    "            'constant')\n",
    "    if max_seq - logits.shape[1]:\n",
    "        logits = np.pad(\n",
    "            logits,\n",
    "            [(0,0),(0,max_seq - logits.shape[1]), (0,0)],\n",
    "            'constant')\n",
    "\n",
    "    return np.mean(np.equal(target, np.argmax(logits, 2)))\n",
    "\n",
    "train_source = source_int_text[batch_size:]\n",
    "train_target = target_int_text[batch_size:]\n",
    "\n",
    "valid_source = helper.pad_sentence_batch(source_int_text[:batch_size])\n",
    "valid_target = helper.pad_sentence_batch(target_int_text[:batch_size])\n",
    "\n",
    "with tf.Session(graph=train_graph) as sess:\n",
    "    sess.run(tf.global_variables_initializer())\n",
    "\n",
    "    for epoch_i in range(epochs):\n",
    "        for batch_i, (source_batch, target_batch) in enumerate(\n",
    "                helper.batch_data(train_source, train_target, batch_size)):\n",
    "            start_time = time.time()\n",
    "            \n",
    "            _, loss = sess.run(\n",
    "                [train_op, cost],\n",
    "                {input_data: source_batch,\n",
    "                 targets: target_batch,\n",
    "                 lr: learning_rate,\n",
    "                 sequence_length: target_batch.shape[1],\n",
    "                 keep_prob: keep_probability})\n",
    "            \n",
    "            batch_train_logits = sess.run(\n",
    "                inference_logits,\n",
    "                {input_data: source_batch, keep_prob: 1.0})\n",
    "            batch_valid_logits = sess.run(\n",
    "                inference_logits,\n",
    "                {input_data: valid_source, keep_prob: 1.0})\n",
    "                \n",
    "            train_acc = get_accuracy(target_batch, batch_train_logits)\n",
    "            valid_acc = get_accuracy(np.array(valid_target), batch_valid_logits)\n",
    "            end_time = time.time()\n",
    "            if batch_i % 10 == 0:\n",
    "                print('Epoch {:>3} Batch {:>4}/{} - Train Accuracy: {:>6.3f}, Validation Accuracy: {:>6.3f}, Loss: {:>6.3f}'\n",
    "                      .format(epoch_i, batch_i, len(source_int_text) // batch_size, train_acc, valid_acc, loss))\n",
    "\n",
    "    # Save Model\n",
    "    saver = tf.train.Saver()\n",
    "    saver.save(sess, save_path)\n",
    "    print('Model Trained and Saved')"
   ]
  },
  {
   "cell_type": "markdown",
   "metadata": {
    "deletable": true,
    "editable": true
   },
   "source": [
    "### Save Parameters\n",
    "Save the `batch_size` and `save_path` parameters for inference."
   ]
  },
  {
   "cell_type": "code",
   "execution_count": 15,
   "metadata": {
    "collapsed": false,
    "deletable": true,
    "editable": true
   },
   "outputs": [],
   "source": [
    "\"\"\"\n",
    "DON'T MODIFY ANYTHING IN THIS CELL\n",
    "\"\"\"\n",
    "# Save parameters for checkpoint\n",
    "helper.save_params(save_path)"
   ]
  },
  {
   "cell_type": "markdown",
   "metadata": {
    "deletable": true,
    "editable": true
   },
   "source": [
    "# Checkpoint"
   ]
  },
  {
   "cell_type": "code",
   "execution_count": 13,
   "metadata": {
    "collapsed": false,
    "deletable": true,
    "editable": true
   },
   "outputs": [],
   "source": [
    "\"\"\"\n",
    "DON'T MODIFY ANYTHING IN THIS CELL\n",
    "\"\"\"\n",
    "import tensorflow as tf\n",
    "import numpy as np\n",
    "import helper\n",
    "import problem_unittests as tests\n",
    "\n",
    "_, (source_vocab_to_int, target_vocab_to_int), (source_int_to_vocab, target_int_to_vocab) = helper.load_preprocess()\n",
    "load_path = helper.load_params()"
   ]
  },
  {
   "cell_type": "markdown",
   "metadata": {
    "deletable": true,
    "editable": true
   },
   "source": [
    "## Sentence to Sequence\n",
    "To feed a sentence into the model for translation, you first need to preprocess it.  Implement the function `sentence_to_seq()` to preprocess new sentences.\n",
    "\n",
    "- Convert the sentence to lowercase\n",
    "- Convert words into ids using `vocab_to_int`\n",
    " - Convert words not in the vocabulary, to the `<UNK>` word id."
   ]
  },
  {
   "cell_type": "code",
   "execution_count": 16,
   "metadata": {
    "collapsed": false,
    "deletable": true,
    "editable": true
   },
   "outputs": [
    {
     "ename": "AssertionError",
     "evalue": "Missing <UNK> id.",
     "output_type": "error",
     "traceback": [
      "\u001b[0;31m---------------------------------------------------------------------------\u001b[0m",
      "\u001b[0;31mAssertionError\u001b[0m                            Traceback (most recent call last)",
      "\u001b[0;32m<ipython-input-16-5fd1e8630a6c>\u001b[0m in \u001b[0;36m<module>\u001b[0;34m()\u001b[0m\n\u001b[1;32m     14\u001b[0m \u001b[0mDON\u001b[0m\u001b[0;31m'\u001b[0m\u001b[0mT\u001b[0m \u001b[0mMODIFY\u001b[0m \u001b[0mANYTHING\u001b[0m \u001b[0mIN\u001b[0m \u001b[0mTHIS\u001b[0m \u001b[0mCELL\u001b[0m \u001b[0mTHAT\u001b[0m \u001b[0mIS\u001b[0m \u001b[0mBELOW\u001b[0m \u001b[0mTHIS\u001b[0m \u001b[0mLINE\u001b[0m\u001b[0;34m\u001b[0m\u001b[0m\n\u001b[1;32m     15\u001b[0m \"\"\"\n\u001b[0;32m---> 16\u001b[0;31m \u001b[0mtests\u001b[0m\u001b[0;34m.\u001b[0m\u001b[0mtest_sentence_to_seq\u001b[0m\u001b[0;34m(\u001b[0m\u001b[0msentence_to_seq\u001b[0m\u001b[0;34m)\u001b[0m\u001b[0;34m\u001b[0m\u001b[0m\n\u001b[0m",
      "\u001b[0;32m/home/carnd/deep-learning/language-translation/problem_unittests.py\u001b[0m in \u001b[0;36mtest_sentence_to_seq\u001b[0;34m(sentence_to_seq)\u001b[0m\n\u001b[1;32m    199\u001b[0m \u001b[0;34m\u001b[0m\u001b[0m\n\u001b[1;32m    200\u001b[0m     \u001b[0;32massert\u001b[0m \u001b[0moutput\u001b[0m\u001b[0;34m[\u001b[0m\u001b[0;36m3\u001b[0m\u001b[0;34m]\u001b[0m \u001b[0;34m==\u001b[0m \u001b[0;36m2\u001b[0m\u001b[0;34m,\u001b[0m\u001b[0;31m\\\u001b[0m\u001b[0;34m\u001b[0m\u001b[0m\n\u001b[0;32m--> 201\u001b[0;31m         \u001b[0;34m'Missing <UNK> id.'\u001b[0m\u001b[0;34m\u001b[0m\u001b[0m\n\u001b[0m\u001b[1;32m    202\u001b[0m \u001b[0;34m\u001b[0m\u001b[0m\n\u001b[1;32m    203\u001b[0m     \u001b[0;32massert\u001b[0m \u001b[0mnp\u001b[0m\u001b[0;34m.\u001b[0m\u001b[0marray_equal\u001b[0m\u001b[0;34m(\u001b[0m\u001b[0moutput\u001b[0m\u001b[0;34m,\u001b[0m \u001b[0;34m[\u001b[0m\u001b[0;36m3\u001b[0m\u001b[0;34m,\u001b[0m \u001b[0;36m6\u001b[0m\u001b[0;34m,\u001b[0m \u001b[0;36m5\u001b[0m\u001b[0;34m,\u001b[0m \u001b[0;36m2\u001b[0m\u001b[0;34m,\u001b[0m \u001b[0;36m4\u001b[0m\u001b[0;34m]\u001b[0m\u001b[0;34m)\u001b[0m\u001b[0;34m,\u001b[0m\u001b[0;31m\\\u001b[0m\u001b[0;34m\u001b[0m\u001b[0m\n",
      "\u001b[0;31mAssertionError\u001b[0m: Missing <UNK> id."
     ]
    }
   ],
   "source": [
    "def sentence_to_seq(sentence, vocab_to_int):\n",
    "    \"\"\"\n",
    "    Convert a sentence to a sequence of ids\n",
    "    :param sentence: String\n",
    "    :param vocab_to_int: Dictionary to go from the words to an id\n",
    "    :return: List of word ids\n",
    "    \"\"\"\n",
    "    # TODO: Implement Function\n",
    "    res = [vocab_to_int.get(word.lower(), vocab_to_int['<UNK>']) for word in sentence.split()]\n",
    "    return res\n",
    "\n",
    "\n",
    "\"\"\"\n",
    "DON'T MODIFY ANYTHING IN THIS CELL THAT IS BELOW THIS LINE\n",
    "\"\"\"\n",
    "tests.test_sentence_to_seq(sentence_to_seq)"
   ]
  },
  {
   "cell_type": "markdown",
   "metadata": {
    "deletable": true,
    "editable": true
   },
   "source": [
    "## Translate\n",
    "This will translate `translate_sentence` from English to French."
   ]
  },
  {
   "cell_type": "code",
   "execution_count": null,
   "metadata": {
    "collapsed": false,
    "deletable": true,
    "editable": true
   },
   "outputs": [],
   "source": [
    "translate_sentence = 'he saw a old yellow truck .'\n",
    "\n",
    "\n",
    "\"\"\"\n",
    "DON'T MODIFY ANYTHING IN THIS CELL\n",
    "\"\"\"\n",
    "translate_sentence = sentence_to_seq(translate_sentence, source_vocab_to_int)\n",
    "\n",
    "loaded_graph = tf.Graph()\n",
    "with tf.Session(graph=loaded_graph) as sess:\n",
    "    # Load saved model\n",
    "    loader = tf.train.import_meta_graph(load_path + '.meta')\n",
    "    loader.restore(sess, load_path)\n",
    "\n",
    "    input_data = loaded_graph.get_tensor_by_name('input:0')\n",
    "    logits = loaded_graph.get_tensor_by_name('logits:0')\n",
    "    keep_prob = loaded_graph.get_tensor_by_name('keep_prob:0')\n",
    "\n",
    "    translate_logits = sess.run(logits, {input_data: [translate_sentence], keep_prob: 1.0})[0]\n",
    "\n",
    "print('Input')\n",
    "print('  Word Ids:      {}'.format([i for i in translate_sentence]))\n",
    "print('  English Words: {}'.format([source_int_to_vocab[i] for i in translate_sentence]))\n",
    "\n",
    "print('\\nPrediction')\n",
    "print('  Word Ids:      {}'.format([i for i in np.argmax(translate_logits, 1)]))\n",
    "print('  French Words: {}'.format([target_int_to_vocab[i] for i in np.argmax(translate_logits, 1)]))"
   ]
  },
  {
   "cell_type": "markdown",
   "metadata": {
    "deletable": true,
    "editable": true
   },
   "source": [
    "## Imperfect Translation\n",
    "You might notice that some sentences translate better than others.  Since the dataset you're using only has a vocabulary of 227 English words of the thousands that you use, you're only going to see good results using these words.  Additionally, the translations in this data set were made by Google translate, so the translations themselves aren't particularly good.  (We apologize to the French speakers out there!) Thankfully, for this project, you don't need a perfect translation. However, if you want to create a better translation model, you'll need better data.\n",
    "\n",
    "You can train on the [WMT10 French-English corpus](http://www.statmt.org/wmt10/training-giga-fren.tar).  This dataset has more vocabulary and richer in topics discussed.  However, this will take you days to train, so make sure you've a GPU and the neural network is performing well on dataset we provided.  Just make sure you play with the WMT10 corpus after you've submitted this project.\n",
    "## Submitting This Project\n",
    "When submitting this project, make sure to run all the cells before saving the notebook. Save the notebook file as \"dlnd_language_translation.ipynb\" and save it as a HTML file under \"File\" -> \"Download as\". Include the \"helper.py\" and \"problem_unittests.py\" files in your submission."
   ]
  }
 ],
 "metadata": {
  "kernelspec": {
   "display_name": "Python 3",
   "language": "python",
   "name": "python3"
  },
  "language_info": {
   "codemirror_mode": {
    "name": "ipython",
    "version": 3
   },
   "file_extension": ".py",
   "mimetype": "text/x-python",
   "name": "python",
   "nbconvert_exporter": "python",
   "pygments_lexer": "ipython3",
   "version": "3.5.2"
  },
  "widgets": {
   "state": {},
   "version": "1.1.2"
  }
 },
 "nbformat": 4,
 "nbformat_minor": 0
}
